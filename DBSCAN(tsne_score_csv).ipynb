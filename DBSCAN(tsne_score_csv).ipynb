{
  "cells": [
    {
      "cell_type": "markdown",
      "metadata": {
        "id": "view-in-github",
        "colab_type": "text"
      },
      "source": [
        "<a href=\"https://colab.research.google.com/github/zubrist/Machine-Learning/blob/main/DBSCAN(tsne_score_csv).ipynb\" target=\"_parent\"><img src=\"https://colab.research.google.com/assets/colab-badge.svg\" alt=\"Open In Colab\"/></a>"
      ]
    },
    {
      "cell_type": "markdown",
      "metadata": {
        "id": "NS826taFX173"
      },
      "source": [
        "\n",
        "\n",
        "\n",
        "### **DBSCAN**\n",
        "\n"
      ]
    },
    {
      "cell_type": "code",
      "source": [
        "from google.colab import drive\n",
        "drive.mount('/content/drive')"
      ],
      "metadata": {
        "colab": {
          "base_uri": "https://localhost:8080/"
        },
        "id": "QFgcaemqPs4m",
        "outputId": "0bd2bdfd-dbd5-4809-8732-e82071e14fe4"
      },
      "execution_count": null,
      "outputs": [
        {
          "output_type": "stream",
          "name": "stdout",
          "text": [
            "Mounted at /content/drive\n"
          ]
        }
      ]
    },
    {
      "cell_type": "code",
      "execution_count": null,
      "metadata": {
        "id": "3o2Xp5c1KI7D"
      },
      "outputs": [],
      "source": [
        "#Import the libraries\n",
        "import pandas as pd\n",
        "import numpy \n",
        "import matplotlib.pyplot as plt\n",
        "import seaborn as sns\n",
        "from sklearn.metrics import silhouette_score\n",
        "from sklearn.cluster import DBSCAN"
      ]
    },
    {
      "cell_type": "code",
      "execution_count": null,
      "metadata": {
        "id": "aG2Mvz2pKWw-"
      },
      "outputs": [],
      "source": [
        "#Reading the dataset\n",
        "dataset = pd.read_csv(\"/content/drive/MyDrive/dataset/tsne_scores.csv\")"
      ]
    },
    {
      "cell_type": "markdown",
      "source": [
        "### **1.Data Exploration**\n",
        "Schema of the dataset"
      ],
      "metadata": {
        "id": "nc8qR0sxbm_l"
      }
    },
    {
      "cell_type": "code",
      "execution_count": null,
      "metadata": {
        "colab": {
          "base_uri": "https://localhost:8080/",
          "height": 206
        },
        "id": "zVCh5nO_KWsg",
        "outputId": "1a3d0acd-8de8-457d-a664-3b8f000c46a2"
      },
      "outputs": [
        {
          "output_type": "execute_result",
          "data": {
            "text/plain": [
              "     t-SNE-1    t-SNE-2\n",
              "0  10.846841 -16.712580\n",
              "1  24.794334 -16.775398\n",
              "2   2.953309  13.379048\n",
              "3  27.262146 -31.886690\n",
              "4 -23.015728  64.468376"
            ],
            "text/html": [
              "\n",
              "  <div id=\"df-db2f3766-3edb-4dbe-a23d-f4833b57ec1f\">\n",
              "    <div class=\"colab-df-container\">\n",
              "      <div>\n",
              "<style scoped>\n",
              "    .dataframe tbody tr th:only-of-type {\n",
              "        vertical-align: middle;\n",
              "    }\n",
              "\n",
              "    .dataframe tbody tr th {\n",
              "        vertical-align: top;\n",
              "    }\n",
              "\n",
              "    .dataframe thead th {\n",
              "        text-align: right;\n",
              "    }\n",
              "</style>\n",
              "<table border=\"1\" class=\"dataframe\">\n",
              "  <thead>\n",
              "    <tr style=\"text-align: right;\">\n",
              "      <th></th>\n",
              "      <th>t-SNE-1</th>\n",
              "      <th>t-SNE-2</th>\n",
              "    </tr>\n",
              "  </thead>\n",
              "  <tbody>\n",
              "    <tr>\n",
              "      <th>0</th>\n",
              "      <td>10.846841</td>\n",
              "      <td>-16.712580</td>\n",
              "    </tr>\n",
              "    <tr>\n",
              "      <th>1</th>\n",
              "      <td>24.794334</td>\n",
              "      <td>-16.775398</td>\n",
              "    </tr>\n",
              "    <tr>\n",
              "      <th>2</th>\n",
              "      <td>2.953309</td>\n",
              "      <td>13.379048</td>\n",
              "    </tr>\n",
              "    <tr>\n",
              "      <th>3</th>\n",
              "      <td>27.262146</td>\n",
              "      <td>-31.886690</td>\n",
              "    </tr>\n",
              "    <tr>\n",
              "      <th>4</th>\n",
              "      <td>-23.015728</td>\n",
              "      <td>64.468376</td>\n",
              "    </tr>\n",
              "  </tbody>\n",
              "</table>\n",
              "</div>\n",
              "      <button class=\"colab-df-convert\" onclick=\"convertToInteractive('df-db2f3766-3edb-4dbe-a23d-f4833b57ec1f')\"\n",
              "              title=\"Convert this dataframe to an interactive table.\"\n",
              "              style=\"display:none;\">\n",
              "        \n",
              "  <svg xmlns=\"http://www.w3.org/2000/svg\" height=\"24px\"viewBox=\"0 0 24 24\"\n",
              "       width=\"24px\">\n",
              "    <path d=\"M0 0h24v24H0V0z\" fill=\"none\"/>\n",
              "    <path d=\"M18.56 5.44l.94 2.06.94-2.06 2.06-.94-2.06-.94-.94-2.06-.94 2.06-2.06.94zm-11 1L8.5 8.5l.94-2.06 2.06-.94-2.06-.94L8.5 2.5l-.94 2.06-2.06.94zm10 10l.94 2.06.94-2.06 2.06-.94-2.06-.94-.94-2.06-.94 2.06-2.06.94z\"/><path d=\"M17.41 7.96l-1.37-1.37c-.4-.4-.92-.59-1.43-.59-.52 0-1.04.2-1.43.59L10.3 9.45l-7.72 7.72c-.78.78-.78 2.05 0 2.83L4 21.41c.39.39.9.59 1.41.59.51 0 1.02-.2 1.41-.59l7.78-7.78 2.81-2.81c.8-.78.8-2.07 0-2.86zM5.41 20L4 18.59l7.72-7.72 1.47 1.35L5.41 20z\"/>\n",
              "  </svg>\n",
              "      </button>\n",
              "      \n",
              "  <style>\n",
              "    .colab-df-container {\n",
              "      display:flex;\n",
              "      flex-wrap:wrap;\n",
              "      gap: 12px;\n",
              "    }\n",
              "\n",
              "    .colab-df-convert {\n",
              "      background-color: #E8F0FE;\n",
              "      border: none;\n",
              "      border-radius: 50%;\n",
              "      cursor: pointer;\n",
              "      display: none;\n",
              "      fill: #1967D2;\n",
              "      height: 32px;\n",
              "      padding: 0 0 0 0;\n",
              "      width: 32px;\n",
              "    }\n",
              "\n",
              "    .colab-df-convert:hover {\n",
              "      background-color: #E2EBFA;\n",
              "      box-shadow: 0px 1px 2px rgba(60, 64, 67, 0.3), 0px 1px 3px 1px rgba(60, 64, 67, 0.15);\n",
              "      fill: #174EA6;\n",
              "    }\n",
              "\n",
              "    [theme=dark] .colab-df-convert {\n",
              "      background-color: #3B4455;\n",
              "      fill: #D2E3FC;\n",
              "    }\n",
              "\n",
              "    [theme=dark] .colab-df-convert:hover {\n",
              "      background-color: #434B5C;\n",
              "      box-shadow: 0px 1px 3px 1px rgba(0, 0, 0, 0.15);\n",
              "      filter: drop-shadow(0px 1px 2px rgba(0, 0, 0, 0.3));\n",
              "      fill: #FFFFFF;\n",
              "    }\n",
              "  </style>\n",
              "\n",
              "      <script>\n",
              "        const buttonEl =\n",
              "          document.querySelector('#df-db2f3766-3edb-4dbe-a23d-f4833b57ec1f button.colab-df-convert');\n",
              "        buttonEl.style.display =\n",
              "          google.colab.kernel.accessAllowed ? 'block' : 'none';\n",
              "\n",
              "        async function convertToInteractive(key) {\n",
              "          const element = document.querySelector('#df-db2f3766-3edb-4dbe-a23d-f4833b57ec1f');\n",
              "          const dataTable =\n",
              "            await google.colab.kernel.invokeFunction('convertToInteractive',\n",
              "                                                     [key], {});\n",
              "          if (!dataTable) return;\n",
              "\n",
              "          const docLinkHtml = 'Like what you see? Visit the ' +\n",
              "            '<a target=\"_blank\" href=https://colab.research.google.com/notebooks/data_table.ipynb>data table notebook</a>'\n",
              "            + ' to learn more about interactive tables.';\n",
              "          element.innerHTML = '';\n",
              "          dataTable['output_type'] = 'display_data';\n",
              "          await google.colab.output.renderOutput(dataTable, element);\n",
              "          const docLink = document.createElement('div');\n",
              "          docLink.innerHTML = docLinkHtml;\n",
              "          element.appendChild(docLink);\n",
              "        }\n",
              "      </script>\n",
              "    </div>\n",
              "  </div>\n",
              "  "
            ]
          },
          "metadata": {},
          "execution_count": 4
        }
      ],
      "source": [
        "dataset.head() #Schema of the dataset"
      ]
    },
    {
      "cell_type": "markdown",
      "source": [
        "\n",
        "Finding out the number of rows*number of column in the dataset"
      ],
      "metadata": {
        "id": "TIKtQxczbGWu"
      }
    },
    {
      "cell_type": "code",
      "execution_count": null,
      "metadata": {
        "colab": {
          "base_uri": "https://localhost:8080/"
        },
        "id": "glTFvlLLKWps",
        "outputId": "4004de57-8573-44bf-e61d-7d07ddf200d4"
      },
      "outputs": [
        {
          "output_type": "execute_result",
          "data": {
            "text/plain": [
              "(4406, 2)"
            ]
          },
          "metadata": {},
          "execution_count": 5
        }
      ],
      "source": [
        "dataset.shape #Dimension of the DataSet,number of rows*number of columns "
      ]
    },
    {
      "cell_type": "markdown",
      "source": [
        "### **2.Data Preprocessing**"
      ],
      "metadata": {
        "id": "2mD_w7NLcJuv"
      }
    },
    {
      "cell_type": "code",
      "execution_count": null,
      "metadata": {
        "colab": {
          "base_uri": "https://localhost:8080/"
        },
        "id": "XZ9P-lKdKWnJ",
        "outputId": "9bcb1cb2-7a92-49cb-a077-7c6269200e06"
      },
      "outputs": [
        {
          "output_type": "execute_result",
          "data": {
            "text/plain": [
              "t-SNE-1    0\n",
              "t-SNE-2    0\n",
              "dtype: int64"
            ]
          },
          "metadata": {},
          "execution_count": 6
        }
      ],
      "source": [
        "dataset.isna().sum()"
      ]
    },
    {
      "cell_type": "code",
      "execution_count": null,
      "metadata": {
        "colab": {
          "base_uri": "https://localhost:8080/"
        },
        "id": "EWHzCCk0KWj8",
        "outputId": "cb6a9a02-f336-42d6-cb86-c70f44ba997d"
      },
      "outputs": [
        {
          "output_type": "execute_result",
          "data": {
            "text/plain": [
              "False"
            ]
          },
          "metadata": {},
          "execution_count": 7
        }
      ],
      "source": [
        "dataset.duplicated().any()"
      ]
    },
    {
      "cell_type": "code",
      "execution_count": null,
      "metadata": {
        "colab": {
          "base_uri": "https://localhost:8080/",
          "height": 679
        },
        "id": "3dpnhdcmKWfS",
        "outputId": "0ad55d46-e4e4-4292-ed79-e7c5e99335cd"
      },
      "outputs": [
        {
          "output_type": "stream",
          "name": "stderr",
          "text": [
            "/usr/local/lib/python3.7/dist-packages/seaborn/_decorators.py:43: FutureWarning: Pass the following variable as a keyword arg: x. From version 0.12, the only valid positional argument will be `data`, and passing other arguments without an explicit keyword will result in an error or misinterpretation.\n",
            "  FutureWarning\n",
            "/usr/local/lib/python3.7/dist-packages/seaborn/_decorators.py:43: FutureWarning: Pass the following variable as a keyword arg: x. From version 0.12, the only valid positional argument will be `data`, and passing other arguments without an explicit keyword will result in an error or misinterpretation.\n",
            "  FutureWarning\n"
          ]
        },
        {
          "output_type": "display_data",
          "data": {
            "text/plain": [
              "<Figure size 576x576 with 2 Axes>"
            ],
            "image/png": "[encoded data removed]"
          },
          "metadata": {
            "needs_background": "light"
          }
        }
      ],
      "source": [
        "fig, axs = plt.subplots(2, figsize = (8,8))\n",
        "plt1 = sns.boxplot(dataset['t-SNE-1'], ax = axs[0])\n",
        "plt2 = sns.boxplot(dataset['t-SNE-2'], ax = axs[1])\n",
        "plt.tight_layout()"
      ]
    },
    {
      "cell_type": "code",
      "execution_count": null,
      "metadata": {
        "colab": {
          "base_uri": "https://localhost:8080/",
          "height": 336
        },
        "id": "yfBV-XW2KWZl",
        "outputId": "bc3b504c-cc47-4092-8211-92a27719c1a3"
      },
      "outputs": [
        {
          "output_type": "stream",
          "name": "stderr",
          "text": [
            "/usr/local/lib/python3.7/dist-packages/seaborn/distributions.py:2619: FutureWarning: `distplot` is a deprecated function and will be removed in a future version. Please adapt your code to use either `displot` (a figure-level function with similar flexibility) or `histplot` (an axes-level function for histograms).\n",
            "  warnings.warn(msg, FutureWarning)\n"
          ]
        },
        {
          "output_type": "display_data",
          "data": {
            "text/plain": [
              "<Figure size 432x288 with 1 Axes>"
            ],
            "image/png": "[encoded data removed]"
          },
          "metadata": {
            "needs_background": "light"
          }
        }
      ],
      "source": [
        "sns.distplot(dataset['t-SNE-1']);"
      ]
    },
    {
      "cell_type": "code",
      "source": [
        "sns.distplot(dataset['t-SNE-1']);"
      ],
      "metadata": {
        "colab": {
          "base_uri": "https://localhost:8080/",
          "height": 336
        },
        "id": "Yrpg9d_Twev1",
        "outputId": "4e66379e-42f3-4ddd-9de9-567e7f1f21b3"
      },
      "execution_count": null,
      "outputs": [
        {
          "output_type": "stream",
          "name": "stderr",
          "text": [
            "/usr/local/lib/python3.7/dist-packages/seaborn/distributions.py:2619: FutureWarning: `distplot` is a deprecated function and will be removed in a future version. Please adapt your code to use either `displot` (a figure-level function with similar flexibility) or `histplot` (an axes-level function for histograms).\n",
            "  warnings.warn(msg, FutureWarning)\n"
          ]
        },
        {
          "output_type": "display_data",
          "data": {
            "text/plain": [
              "<Figure size 432x288 with 1 Axes>"
            ],
            "image/png": "[encoded data removed]"
          },
          "metadata": {
            "needs_background": "light"
          }
        }
      ]
    },
    {
      "cell_type": "code",
      "execution_count": null,
      "metadata": {
        "colab": {
          "base_uri": "https://localhost:8080/",
          "height": 269
        },
        "id": "66b6zCBnKWBP",
        "outputId": "c315db94-1c64-4179-c03c-7a9c09d8fbb6"
      },
      "outputs": [
        {
          "output_type": "display_data",
          "data": {
            "text/plain": [
              "<Figure size 432x288 with 2 Axes>"
            ],
            "image/png": "[encoded data removed]"
          },
          "metadata": {
            "needs_background": "light"
          }
        }
      ],
      "source": [
        "sns.heatmap(dataset.corr(), annot = True)\n",
        "\n",
        "plt.show()"
      ]
    },
    {
      "cell_type": "markdown",
      "source": [
        "### **3.Model Description**"
      ],
      "metadata": {
        "id": "VrAb-gM7cWpi"
      }
    },
    {
      "cell_type": "code",
      "execution_count": null,
      "metadata": {
        "id": "1bPsTNgXLaRU"
      },
      "outputs": [],
      "source": [
        "def dbscan(D, eps, MinPts):\n",
        "    '''\n",
        "    Cluster the dataset `D` using the DBSCAN algorithm.\n",
        "    \n",
        "    dbscan takes a dataset `D` (a list of vectors), a threshold distance\n",
        "    `eps`, and a required number of points `MinPts`.\n",
        "    \n",
        "    It will return a list of cluster labels. The label -1 means noise, and then\n",
        "    the clusters are numbered starting from 1.\n",
        "    '''\n",
        " \n",
        "    # This list will hold the final cluster assignment for each point in D.\n",
        "    # There are two reserved values:\n",
        "    #    -1 - Indicates a noise point\n",
        "    #     0 - Means the point hasn't been considered yet.\n",
        "    # Initially all labels are 0.    \n",
        "    labels = [0]*len(D)\n",
        "\n",
        "    # C is the ID of the current cluster.    \n",
        "    C = 0\n",
        "    \n",
        "    # This outer loop is just responsible for picking new seed points--a point\n",
        "    # from which to grow a new cluster.\n",
        "    # Once a valid seed point is found, a new cluster is created, and the \n",
        "    # cluster growth is all handled by the 'expandCluster' routine.\n",
        "    \n",
        "    # For each point P in the Dataset D...\n",
        "    # ('P' is the index of the datapoint, rather than the datapoint itself.)\n",
        "    for P in range(0, len(D)):\n",
        "    \n",
        "        # Only points that have not already been claimed can be picked as new \n",
        "        # seed points.    \n",
        "        # If the point's label is not 0, continue to the next point.\n",
        "        if not (labels[P] == 0):\n",
        "           continue\n",
        "        \n",
        "        # Find all of P's neighboring points.\n",
        "        NeighborPts = region_query(D, P, eps)\n",
        "        \n",
        "        # If the number is below MinPts, this point is noise. \n",
        "        # This is the only condition under which a point is labeled \n",
        "        # NOISE--when it's not a valid seed point. A NOISE point may later \n",
        "        # be picked up by another cluster as a boundary point (this is the only\n",
        "        # condition under which a cluster label can change--from NOISE to \n",
        "        # something else).\n",
        "        if len(NeighborPts) < MinPts:\n",
        "            labels[P] = -1\n",
        "        # Otherwise, if there are at least MinPts nearby, use this point as the \n",
        "        # seed for a new cluster.    \n",
        "        else: \n",
        "           C += 1\n",
        "           grow_cluster(D, labels, P, NeighborPts, C, eps, MinPts)\n",
        "    \n",
        "    # All data has been clustered!\n",
        "    return labels"
      ]
    },
    {
      "cell_type": "code",
      "execution_count": null,
      "metadata": {
        "id": "iL8UibPnLaNZ"
      },
      "outputs": [],
      "source": [
        "def grow_cluster(D, labels, P, NeighborPts, C, eps, MinPts):\n",
        "    '''\n",
        "    Grow a new cluster with label `C` from the seed point `P`.\n",
        "    \n",
        "    This function searches through the dataset to find all points that belong\n",
        "    to this new cluster. When this function returns, cluster `C` is complete.\n",
        "    \n",
        "    Parameters:\n",
        "      `D`      - The dataset (a list of vectors)\n",
        "      `labels` - List storing the cluster labels for all dataset points\n",
        "      `P`      - Index of the seed point for this new cluster\n",
        "      `NeighborPts` - All of the neighbors of `P`\n",
        "      `C`      - The label for this new cluster.  \n",
        "      `eps`    - Threshold distance\n",
        "      `MinPts` - Minimum required number of neighbors\n",
        "    '''\n",
        "\n",
        "    # Assign the cluster label to the seed point.\n",
        "    labels[P] = C\n",
        "    \n",
        "    # Look at each neighbor of P (neighbors are referred to as Pn). \n",
        "    # NeighborPts will be used as a FIFO queue of points to search--that is, it\n",
        "    # will grow as we discover new branch points for the cluster. The FIFO\n",
        "    # behavior is accomplished by using a while-loop rather than a for-loop.\n",
        "    # In NeighborPts, the points are represented by their index in the original\n",
        "    # dataset.\n",
        "    i = 0\n",
        "    while i < len(NeighborPts):    \n",
        "        \n",
        "        # Get the next point from the queue.        \n",
        "        Pn = NeighborPts[i]\n",
        "       \n",
        "        # If Pn was labelled NOISE during the seed search, then we\n",
        "        # know it's not a branch point (it doesn't have enough neighbors), so\n",
        "        # make it a leaf point of cluster C and move on.\n",
        "        if labels[Pn] == -1:\n",
        "           labels[Pn] = C\n",
        "        \n",
        "        # Otherwise, if Pn isn't already claimed, claim it as part of C.\n",
        "        elif labels[Pn] == 0:\n",
        "            # Add Pn to cluster C (Assign cluster label C).\n",
        "            labels[Pn] = C\n",
        "            \n",
        "            # Find all the neighbors of Pn\n",
        "            PnNeighborPts = region_query(D, Pn, eps)\n",
        "            \n",
        "            # If Pn has at least MinPts neighbors, it's a branch point!\n",
        "            # Add all of its neighbors to the FIFO queue to be searched. \n",
        "            if len(PnNeighborPts) >= MinPts:\n",
        "                NeighborPts = NeighborPts + PnNeighborPts\n",
        "            # If Pn *doesn't* have enough neighbors, then it's a leaf point.\n",
        "            # Don't queue up it's neighbors as expansion points.\n",
        "            #else:\n",
        "                # Do nothing                \n",
        "                #NeighborPts = NeighborPts               \n",
        "        \n",
        "        # Advance to the next point in the FIFO queue.\n",
        "        i += 1        \n",
        "    \n",
        "    # We've finished growing cluster C!"
      ]
    },
    {
      "cell_type": "code",
      "execution_count": null,
      "metadata": {
        "id": "ifF739lCLaKE"
      },
      "outputs": [],
      "source": [
        "def region_query(D, P, eps):\n",
        "    '''\n",
        "    Find all points in dataset `D` within distance `eps` of point `P`.\n",
        "    \n",
        "    This function calculates the distance between a point P and every other \n",
        "    point in the dataset, and then returns only those points which are within a\n",
        "    threshold distance `eps`.\n",
        "    '''\n",
        "    neighbors = []\n",
        "    \n",
        "    # For each point in the dataset...\n",
        "    for Pn in range(0, len(D)):\n",
        "        \n",
        "        # If the distance is below the threshold, add it to the neighbors list.\n",
        "        if numpy.linalg.norm(D[P] - D[Pn]) < eps:\n",
        "           neighbors.append(Pn)\n",
        "            \n",
        "    return neighbors"
      ]
    },
    {
      "cell_type": "code",
      "execution_count": null,
      "metadata": {
        "id": "ZEW_eoc6Lm6s"
      },
      "outputs": [],
      "source": [
        "#f1 = data['Age'].values\n",
        "f2 = dataset['t-SNE-1'].values\n",
        "f3 = dataset['t-SNE-2'].values\n",
        "X = numpy.array(list(zip(f2, f3)))\n",
        "cluster_labels = numpy.array(dbscan(X, 3, 4))"
      ]
    },
    {
      "cell_type": "code",
      "execution_count": null,
      "metadata": {
        "colab": {
          "base_uri": "https://localhost:8080/"
        },
        "id": "LlRffHmgLl7U",
        "outputId": "e492c998-4ae2-4b0c-8424-0bc4f034e59e"
      },
      "outputs": [
        {
          "output_type": "stream",
          "name": "stdout",
          "text": [
            "[1 1 2 ... 2 2 2]\n"
          ]
        }
      ],
      "source": [
        "#db = DBSCAN(eps = 3, min_samples = 4).fit(X)\n",
        "#cluster_labels = db.labels_\n",
        "print(cluster_labels)"
      ]
    },
    {
      "cell_type": "markdown",
      "source": [
        "# **4.Performance Analysis**"
      ],
      "metadata": {
        "id": "s89xCvhrtRs0"
      }
    },
    {
      "cell_type": "code",
      "source": [
        "n_clusters_ = len(set(cluster_labels)) - (1 if -1 in cluster_labels else 0)\n",
        "n_noise_ = list(cluster_labels).count(-1)"
      ],
      "metadata": {
        "id": "sweZVsi0yebf"
      },
      "execution_count": null,
      "outputs": []
    },
    {
      "cell_type": "code",
      "source": [
        "print(\"Estimated number of clusters: \" , n_clusters_)\n",
        "print(\"Estimated number of noise points: \" , n_noise_)"
      ],
      "metadata": {
        "colab": {
          "base_uri": "https://localhost:8080/"
        },
        "id": "W_SrLuX1yhoF",
        "outputId": "1224b67a-e1c3-471d-9a2d-376b25b913c5"
      },
      "execution_count": null,
      "outputs": [
        {
          "output_type": "stream",
          "name": "stdout",
          "text": [
            "Estimated number of clusters:  17\n",
            "Estimated number of noise points:  19\n"
          ]
        }
      ]
    },
    {
      "cell_type": "code",
      "execution_count": null,
      "metadata": {
        "colab": {
          "base_uri": "https://localhost:8080/",
          "height": 368
        },
        "id": "Z2AzYsdfLl37",
        "outputId": "ca9079a8-1b41-44e0-b539-81e7a10ccf7e"
      },
      "outputs": [
        {
          "output_type": "display_data",
          "data": {
            "text/plain": [
              "<Figure size 504x360 with 1 Axes>"
            ],
            "image/png": "[encoded data removed]"
          },
          "metadata": {
            "needs_background": "light"
          }
        },
        {
          "output_type": "stream",
          "name": "stdout",
          "text": [
            "Quality of Clustering:  -0.07813118409334233\n"
          ]
        }
      ],
      "source": [
        "plt.figure(figsize=(7,5))\n",
        "plt.scatter(X[cluster_labels == 0, 0], X[cluster_labels == 0, 1], s = 50, c = 'pink')\n",
        "plt.scatter(X[cluster_labels == 1, 0], X[cluster_labels == 1, 1], s = 50, c = 'yellow')\n",
        "plt.scatter(X[cluster_labels == 2, 0], X[cluster_labels == 2, 1], s = 50, c = 'cyan')\n",
        "plt.scatter(X[cluster_labels == 3, 0], X[cluster_labels == 3, 1], s = 50, c = 'magenta')\n",
        "plt.scatter(X[cluster_labels == 4, 0], X[cluster_labels == 4, 1], s = 50, c = 'orange')\n",
        "plt.scatter(X[cluster_labels == 5, 0], X[cluster_labels == 5, 1], s = 50, c = 'blue')\n",
        "plt.scatter(X[cluster_labels == 6, 0], X[cluster_labels == 6, 1], s = 50, c = 'red')\n",
        "plt.scatter(X[cluster_labels == 7, 0], X[cluster_labels == 7, 1], s = 50, c = 'black')\n",
        "plt.scatter(X[cluster_labels == 8, 0], X[cluster_labels == 8, 1], s = 50, c = 'green')\n",
        "plt.xlabel('Annual Income in (1k)')\n",
        "plt.ylabel('Spending Score from 1-100')\n",
        "plt.title('Clusters of data')\n",
        "plt.show()\n",
        "if(n_clusters_ > 1):\n",
        "  sil = silhouette_score(X, cluster_labels,\n",
        "                         metric='euclidean',\n",
        "                         sample_size = len(dataset))\n",
        "  print(\"Quality of Clustering: \", sil)"
      ]
    }
  ],
  "metadata": {
    "colab": {
      "collapsed_sections": [],
      "name": "Q3:DBSCAN(tsne_score.csv).ipynb",
      "provenance": [],
      "include_colab_link": true
    },
    "kernelspec": {
      "display_name": "Python 3 (ipykernel)",
      "language": "python",
      "name": "python3"
    },
    "language_info": {
      "codemirror_mode": {
        "name": "ipython",
        "version": 3
      },
      "file_extension": ".py",
      "mimetype": "text/x-python",
      "name": "python",
      "nbconvert_exporter": "python",
      "pygments_lexer": "ipython3",
      "version": "3.10.4"
    }
  },
  "nbformat": 4,
  "nbformat_minor": 0
}