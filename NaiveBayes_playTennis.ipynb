{
  "nbformat": 4,
  "nbformat_minor": 0,
  "metadata": {
    "colab": {
      "name": "NaiveBayes_playTennis.ipynb",
      "provenance": [],
      "collapsed_sections": [],
      "include_colab_link": true
    },
    "kernelspec": {
      "name": "python3",
      "display_name": "Python 3"
    },
    "language_info": {
      "name": "python"
    }
  },
  "cells": [
    {
      "cell_type": "markdown",
      "metadata": {
        "id": "view-in-github",
        "colab_type": "text"
      },
      "source": [
        "<a href=\"https://colab.research.google.com/github/zubrist/Machine-Learning/blob/main/NaiveBayes_playTennis.ipynb\" target=\"_parent\"><img src=\"https://colab.research.google.com/assets/colab-badge.svg\" alt=\"Open In Colab\"/></a>"
      ]
    },
    {
      "cell_type": "code",
      "execution_count": 4,
      "metadata": {
        "colab": {
          "base_uri": "https://localhost:8080/"
        },
        "id": "LPmbuIdDAGcf",
        "outputId": "665ca08b-7c8f-4173-d437-8613ad28ddf5"
      },
      "outputs": [
        {
          "output_type": "stream",
          "name": "stdout",
          "text": [
            "[2 2 0 1 1 1 0 2 2 1 2 0 0 1]\n",
            "[1 1 1 2 0 0 0 2 0 2 2 2 1 2]\n",
            "[0 0 0 0 1 1 1 0 1 1 1 0 1 0]\n",
            "[1 0 1 1 1 0 0 1 1 1 0 0 1 0]\n",
            "[0 0 1 1 1 0 1 0 1 1 1 1 1 0]\n",
            "_____________________________________________\n",
            "[[2, 1, 0, 1], [2, 1, 0, 0], [0, 1, 0, 1], [1, 2, 0, 1], [1, 0, 1, 1], [1, 0, 1, 0], [0, 0, 1, 0], [2, 2, 0, 1], [2, 0, 1, 1], [1, 2, 1, 1], [2, 2, 1, 0], [0, 2, 0, 0], [0, 1, 1, 1], [1, 2, 0, 0]]\n",
            "Predicted Value: [0]\n"
          ]
        }
      ],
      "source": [
        "# Assigning features and label variables\n",
        "weather=['Sunny','Sunny','Overcast','Rainy','Rainy','Rainy','Overcast','Sunny','Sunny',\n",
        "'Rainy','Sunny','Overcast','Overcast','Rainy']\n",
        "temp=['Hot','Hot','Hot','Mild','Cool','Cool','Cool','Mild','Cool','Mild','Mild','Mild','Hot','Mild']\n",
        "humidity=['High','High','High','High','Normal','Normal','Normal','High','Normal','Normal','Normal','High','Normal','High']\n",
        "wind=['Weak','Strong','Weak','Weak','Weak','Strong','Strong','Weak','Weak','Weak','Strong','Strong','Weak','Strong']\n",
        "\n",
        "play=['No','No','Yes','Yes','Yes','No','Yes','No','Yes','Yes','Yes','Yes','Yes','No']\n",
        "\n",
        "# Import LabelEncoder\n",
        "from sklearn import preprocessing\n",
        "#creating labelEncoder\n",
        "le = preprocessing.LabelEncoder()\n",
        "# Converting string labels into numbers.\n",
        "weather_encoded=le.fit_transform(weather)\n",
        "temp_encoded=le.fit_transform(temp)\n",
        "humidity_encoded= le.fit_transform(humidity)\n",
        "wind_encoded= le.fit_transform(wind)\n",
        "target=le.fit_transform(play)\n",
        "\n",
        "print(weather_encoded)\n",
        "print(temp_encoded)\n",
        "print(humidity_encoded)\n",
        "print(wind_encoded)\n",
        "print(target)\n",
        "print(\"_____________________________________________\")\n",
        "\n",
        "import numpy as np\n",
        "zipped=zip(weather_encoded,temp_encoded,humidity_encoded,wind_encoded)\n",
        "features = np.array(list(zipped)).tolist()\n",
        "print(features)\n",
        "\n",
        "#Import Gaussian Naive Bayes model\n",
        "from sklearn.naive_bayes import CategoricalNB\n",
        "\n",
        "#Create a Gaussian Classifier\n",
        "model = CategoricalNB()\n",
        "\n",
        "# Train the model using the training sets\n",
        "model.fit(features,target)\n",
        "\n",
        "#Predict Output\n",
        "#weather : 0 = Overcast; 1 = Rainy ; 2= Sunny\n",
        "#Temp : 0 = Cool ; 1 = Hot; 2 = Mild\n",
        "#Humidity : 0 = High  ; 1 = Normal\n",
        "#Wind : 0 =Strong  ; 1 = Weak \n",
        "predicted= model.predict([[2, 0, 0 , 0]]) # 2:Sunny, 0:Cool ; 0:High ; 0:Strong \n",
        "print(\"Predicted Value:\", predicted)\n"
      ]
    },
    {
      "cell_type": "code",
      "source": [
        ""
      ],
      "metadata": {
        "id": "LtdKT-_HVL-p"
      },
      "execution_count": null,
      "outputs": []
    }
  ]
}