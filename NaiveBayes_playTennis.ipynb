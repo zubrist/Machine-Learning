{
  "nbformat": 4,
  "nbformat_minor": 0,
  "metadata": {
    "colab": {
      "name": "NaiveBayes_playTennis.ipynb",
      "provenance": [],
      "collapsed_sections": [],
      "include_colab_link": true
    },
    "kernelspec": {
      "name": "python3",
      "display_name": "Python 3"
    },
    "language_info": {
      "name": "python"
    }
  },
  "cells": [
    {
      "cell_type": "markdown",
      "metadata": {
        "id": "view-in-github",
        "colab_type": "text"
      },
      "source": [
        "<a href=\"https://colab.research.google.com/github/zubrist/Machine-Learning/blob/main/NaiveBayes_playTennis.ipynb\" target=\"_parent\"><img src=\"https://colab.research.google.com/assets/colab-badge.svg\" alt=\"Open In Colab\"/></a>"
      ]
    },
    {
      "cell_type": "code",
      "execution_count": 6,
      "metadata": {
        "colab": {
          "base_uri": "https://localhost:8080/"
        },
        "id": "LPmbuIdDAGcf",
        "outputId": "389b4fb1-68b2-4f39-de87-8617ed10840e"
      },
      "outputs": [
        {
          "output_type": "stream",
          "name": "stdout",
          "text": [
            "[2 2 0 1 1 1 0 2 2 1 2 0 0 1]\n",
            "[1 1 1 2 0 0 0 2 0 2 2 2 1 2]\n",
            "[0 0 0 0 1 1 1 0 1 1 1 0 1 0]\n",
            "[1 0 1 1 1 0 0 1 1 1 0 0 1 0]\n",
            "[0 0 1 1 1 0 1 0 1 1 1 1 1 0]\n",
            "_____________________________________________\n",
            "[[2, 1, 0, 1], [2, 1, 0, 0], [0, 1, 0, 1], [1, 2, 0, 1], [1, 0, 1, 1], [1, 0, 1, 0], [0, 0, 1, 0], [2, 2, 0, 1], [2, 0, 1, 1], [1, 2, 1, 1], [2, 2, 1, 0], [0, 2, 0, 0], [0, 1, 1, 1], [1, 2, 0, 0]]\n",
            "The Condiotions are Okay to play Tennis Today\n"
          ]
        }
      ],
      "source": [
        "# Assigning features and label variables\n",
        "weather=['Sunny','Sunny','Overcast','Rainy','Rainy','Rainy','Overcast','Sunny','Sunny',\n",
        "'Rainy','Sunny','Overcast','Overcast','Rainy']\n",
        "temp=['Hot','Hot','Hot','Mild','Cool','Cool','Cool','Mild','Cool','Mild','Mild','Mild','Hot','Mild']\n",
        "humidity=['High','High','High','High','Normal','Normal','Normal','High','Normal','Normal','Normal','High','Normal','High']\n",
        "wind=['Weak','Strong','Weak','Weak','Weak','Strong','Strong','Weak','Weak','Weak','Strong','Strong','Weak','Strong']\n",
        "\n",
        "play=['No','No','Yes','Yes','Yes','No','Yes','No','Yes','Yes','Yes','Yes','Yes','No']\n",
        "\n",
        "# Import LabelEncoder\n",
        "from sklearn import preprocessing\n",
        "#creating labelEncoder\n",
        "le = preprocessing.LabelEncoder()\n",
        "# Converting string labels into numbers.\n",
        "weather_encoded=le.fit_transform(weather)\n",
        "temp_encoded=le.fit_transform(temp)\n",
        "humidity_encoded= le.fit_transform(humidity)\n",
        "wind_encoded= le.fit_transform(wind)\n",
        "target=le.fit_transform(play)\n",
        "\n",
        "print(weather_encoded)\n",
        "print(temp_encoded)\n",
        "print(humidity_encoded)\n",
        "print(wind_encoded)\n",
        "print(target)\n",
        "print(\"_____________________________________________\")\n",
        "\n",
        "import numpy as np\n",
        "zipped=zip(weather_encoded,temp_encoded,humidity_encoded,wind_encoded)\n",
        "features = np.array(list(zipped)).tolist()\n",
        "print(features)\n",
        "\n",
        "#Import Gaussian Naive Bayes model\n",
        "from sklearn.naive_bayes import CategoricalNB\n",
        "\n",
        "#Create a Gaussian Classifier\n",
        "model = CategoricalNB()\n",
        "\n",
        "# Train the model using the training sets\n",
        "model.fit(features,target)\n",
        "\n",
        "#Predict Output\n",
        "#weather : 0 = Overcast; 1 = Rainy ; 2= Sunny\n",
        "#Temp : 0 = Cool ; 1 = Hot; 2 = Mild\n",
        "#Humidity : 0 = High  ; 1 = Normal\n",
        "#Wind : 0 =Strong  ; 1 = Weak \n",
        "predicted= model.predict([[0, 1, 0 , 1]]) # 2:Sunny, 0:Cool ; 0:High ; 0:Strong \n",
        "#print(\"Predicted Value:\", predicted)\n",
        "if(predicted==0):\n",
        "  print(\"The Conditions are Not Good to play Tennis Today\")\n",
        "else:\n",
        "  print(\"The Condiotions are Okay to play Tennis Today\")"
      ]
    },
    {
      "cell_type": "code",
      "source": [
        ""
      ],
      "metadata": {
        "id": "LtdKT-_HVL-p"
      },
      "execution_count": null,
      "outputs": []
    }
  ]
}