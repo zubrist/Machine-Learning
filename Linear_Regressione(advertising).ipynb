{
  "nbformat": 4,
  "nbformat_minor": 0,
  "metadata": {
    "colab": {
      "name": "Q1: Linear_Regressione(advertising).ipynb",
      "provenance": [],
      "collapsed_sections": [
        "OIVdquW9iWXh",
        "gUHMIxGJi1Aw",
        "D0kWcudzi9xo"
      ],
      "include_colab_link": true
    },
    "kernelspec": {
      "name": "python3",
      "display_name": "Python 3"
    },
    "language_info": {
      "name": "python"
    }
  },
  "cells": [
    {
      "cell_type": "markdown",
      "metadata": {
        "id": "view-in-github",
        "colab_type": "text"
      },
      "source": [
        "<a href=\"https://colab.research.google.com/github/zubrist/Machine-Learning/blob/main/Linear_Regressione(advertising).ipynb\" target=\"_parent\"><img src=\"https://colab.research.google.com/assets/colab-badge.svg\" alt=\"Open In Colab\"/></a>"
      ]
    },
    {
      "cell_type": "code",
      "source": [
        "from google.colab import drive\n",
        "drive.mount('/content/drive')"
      ],
      "metadata": {
        "colab": {
          "base_uri": "https://localhost:8080/"
        },
        "id": "7kAhGo5gCaZ9",
        "outputId": "182e7c19-6a5d-4054-fe2c-6299ddc8e678"
      },
      "execution_count": null,
      "outputs": [
        {
          "output_type": "stream",
          "name": "stdout",
          "text": [
            "Mounted at /content/drive\n"
          ]
        }
      ]
    },
    {
      "cell_type": "code",
      "source": [
        "#Importing the libraries\n",
        "import pandas as pd\n",
        "import numpy as np\n",
        "import matplotlib.pyplot as plt\n",
        "import seaborn as sns"
      ],
      "metadata": {
        "id": "7l_p5l1tDdoR"
      },
      "execution_count": null,
      "outputs": []
    },
    {
      "cell_type": "code",
      "source": [
        "#Reading the dataset\n",
        "dataset=pd.read_csv(\"/content/drive/MyDrive/dataset/advertising.csv\")"
      ],
      "metadata": {
        "id": "ZyFiSAQhEHRo"
      },
      "execution_count": null,
      "outputs": []
    },
    {
      "cell_type": "markdown",
      "source": [
        "### **1.Data Exploration**\n",
        "Schema of the dataset"
      ],
      "metadata": {
        "id": "QUiJluJih6TO"
      }
    },
    {
      "cell_type": "code",
      "source": [
        "dataset.head()"
      ],
      "metadata": {
        "colab": {
          "base_uri": "https://localhost:8080/",
          "height": 206
        },
        "id": "D3ZSMqwHEelg",
        "outputId": "1b5dbf34-6904-4b6f-d731-49b4b421c8eb"
      },
      "execution_count": null,
      "outputs": [
        {
          "output_type": "execute_result",
          "data": {
            "text/plain": [
              "      TV  Radio  Newspaper  Sales\n",
              "0  230.1   37.8       69.2   22.1\n",
              "1   44.5   39.3       45.1   10.4\n",
              "2   17.2   45.9       69.3   12.0\n",
              "3  151.5   41.3       58.5   16.5\n",
              "4  180.8   10.8       58.4   17.9"
            ],
            "text/html": [
              "\n",
              "  <div id=\"df-5f39b9e0-225f-4ed5-9153-56e96d07ce88\">\n",
              "    <div class=\"colab-df-container\">\n",
              "      <div>\n",
              "<style scoped>\n",
              "    .dataframe tbody tr th:only-of-type {\n",
              "        vertical-align: middle;\n",
              "    }\n",
              "\n",
              "    .dataframe tbody tr th {\n",
              "        vertical-align: top;\n",
              "    }\n",
              "\n",
              "    .dataframe thead th {\n",
              "        text-align: right;\n",
              "    }\n",
              "</style>\n",
              "<table border=\"1\" class=\"dataframe\">\n",
              "  <thead>\n",
              "    <tr style=\"text-align: right;\">\n",
              "      <th></th>\n",
              "      <th>TV</th>\n",
              "      <th>Radio</th>\n",
              "      <th>Newspaper</th>\n",
              "      <th>Sales</th>\n",
              "    </tr>\n",
              "  </thead>\n",
              "  <tbody>\n",
              "    <tr>\n",
              "      <th>0</th>\n",
              "      <td>230.1</td>\n",
              "      <td>37.8</td>\n",
              "      <td>69.2</td>\n",
              "      <td>22.1</td>\n",
              "    </tr>\n",
              "    <tr>\n",
              "      <th>1</th>\n",
              "      <td>44.5</td>\n",
              "      <td>39.3</td>\n",
              "      <td>45.1</td>\n",
              "      <td>10.4</td>\n",
              "    </tr>\n",
              "    <tr>\n",
              "      <th>2</th>\n",
              "      <td>17.2</td>\n",
              "      <td>45.9</td>\n",
              "      <td>69.3</td>\n",
              "      <td>12.0</td>\n",
              "    </tr>\n",
              "    <tr>\n",
              "      <th>3</th>\n",
              "      <td>151.5</td>\n",
              "      <td>41.3</td>\n",
              "      <td>58.5</td>\n",
              "      <td>16.5</td>\n",
              "    </tr>\n",
              "    <tr>\n",
              "      <th>4</th>\n",
              "      <td>180.8</td>\n",
              "      <td>10.8</td>\n",
              "      <td>58.4</td>\n",
              "      <td>17.9</td>\n",
              "    </tr>\n",
              "  </tbody>\n",
              "</table>\n",
              "</div>\n",
              "      <button class=\"colab-df-convert\" onclick=\"convertToInteractive('df-5f39b9e0-225f-4ed5-9153-56e96d07ce88')\"\n",
              "              title=\"Convert this dataframe to an interactive table.\"\n",
              "              style=\"display:none;\">\n",
              "        \n",
              "  <svg xmlns=\"http://www.w3.org/2000/svg\" height=\"24px\"viewBox=\"0 0 24 24\"\n",
              "       width=\"24px\">\n",
              "    <path d=\"M0 0h24v24H0V0z\" fill=\"none\"/>\n",
              "    <path d=\"M18.56 5.44l.94 2.06.94-2.06 2.06-.94-2.06-.94-.94-2.06-.94 2.06-2.06.94zm-11 1L8.5 8.5l.94-2.06 2.06-.94-2.06-.94L8.5 2.5l-.94 2.06-2.06.94zm10 10l.94 2.06.94-2.06 2.06-.94-2.06-.94-.94-2.06-.94 2.06-2.06.94z\"/><path d=\"M17.41 7.96l-1.37-1.37c-.4-.4-.92-.59-1.43-.59-.52 0-1.04.2-1.43.59L10.3 9.45l-7.72 7.72c-.78.78-.78 2.05 0 2.83L4 21.41c.39.39.9.59 1.41.59.51 0 1.02-.2 1.41-.59l7.78-7.78 2.81-2.81c.8-.78.8-2.07 0-2.86zM5.41 20L4 18.59l7.72-7.72 1.47 1.35L5.41 20z\"/>\n",
              "  </svg>\n",
              "      </button>\n",
              "      \n",
              "  <style>\n",
              "    .colab-df-container {\n",
              "      display:flex;\n",
              "      flex-wrap:wrap;\n",
              "      gap: 12px;\n",
              "    }\n",
              "\n",
              "    .colab-df-convert {\n",
              "      background-color: #E8F0FE;\n",
              "      border: none;\n",
              "      border-radius: 50%;\n",
              "      cursor: pointer;\n",
              "      display: none;\n",
              "      fill: #1967D2;\n",
              "      height: 32px;\n",
              "      padding: 0 0 0 0;\n",
              "      width: 32px;\n",
              "    }\n",
              "\n",
              "    .colab-df-convert:hover {\n",
              "      background-color: #E2EBFA;\n",
              "      box-shadow: 0px 1px 2px rgba(60, 64, 67, 0.3), 0px 1px 3px 1px rgba(60, 64, 67, 0.15);\n",
              "      fill: #174EA6;\n",
              "    }\n",
              "\n",
              "    [theme=dark] .colab-df-convert {\n",
              "      background-color: #3B4455;\n",
              "      fill: #D2E3FC;\n",
              "    }\n",
              "\n",
              "    [theme=dark] .colab-df-convert:hover {\n",
              "      background-color: #434B5C;\n",
              "      box-shadow: 0px 1px 3px 1px rgba(0, 0, 0, 0.15);\n",
              "      filter: drop-shadow(0px 1px 2px rgba(0, 0, 0, 0.3));\n",
              "      fill: #FFFFFF;\n",
              "    }\n",
              "  </style>\n",
              "\n",
              "      <script>\n",
              "        const buttonEl =\n",
              "          document.querySelector('#df-5f39b9e0-225f-4ed5-9153-56e96d07ce88 button.colab-df-convert');\n",
              "        buttonEl.style.display =\n",
              "          google.colab.kernel.accessAllowed ? 'block' : 'none';\n",
              "\n",
              "        async function convertToInteractive(key) {\n",
              "          const element = document.querySelector('#df-5f39b9e0-225f-4ed5-9153-56e96d07ce88');\n",
              "          const dataTable =\n",
              "            await google.colab.kernel.invokeFunction('convertToInteractive',\n",
              "                                                     [key], {});\n",
              "          if (!dataTable) return;\n",
              "\n",
              "          const docLinkHtml = 'Like what you see? Visit the ' +\n",
              "            '<a target=\"_blank\" href=https://colab.research.google.com/notebooks/data_table.ipynb>data table notebook</a>'\n",
              "            + ' to learn more about interactive tables.';\n",
              "          element.innerHTML = '';\n",
              "          dataTable['output_type'] = 'display_data';\n",
              "          await google.colab.output.renderOutput(dataTable, element);\n",
              "          const docLink = document.createElement('div');\n",
              "          docLink.innerHTML = docLinkHtml;\n",
              "          element.appendChild(docLink);\n",
              "        }\n",
              "      </script>\n",
              "    </div>\n",
              "  </div>\n",
              "  "
            ]
          },
          "metadata": {},
          "execution_count": 5
        }
      ]
    },
    {
      "cell_type": "markdown",
      "source": [
        "\n",
        "\n",
        "\n",
        "\n",
        "\n",
        "\n",
        "\n",
        "\n",
        "Finding out the number of rows*number of column in the dataset"
      ],
      "metadata": {
        "id": "oNyV0KstiFGh"
      }
    },
    {
      "cell_type": "code",
      "source": [
        "dataset.shape"
      ],
      "metadata": {
        "colab": {
          "base_uri": "https://localhost:8080/"
        },
        "id": "WucL49huEjM7",
        "outputId": "8c1ba091-c61a-4b7a-f602-792107e9918c"
      },
      "execution_count": null,
      "outputs": [
        {
          "output_type": "execute_result",
          "data": {
            "text/plain": [
              "(200, 4)"
            ]
          },
          "metadata": {},
          "execution_count": 6
        }
      ]
    },
    {
      "cell_type": "markdown",
      "source": [
        "### **2.Data Preprocessing**"
      ],
      "metadata": {
        "id": "L3RSvqDriQDA"
      }
    },
    {
      "cell_type": "code",
      "source": [
        "#Checking for missing value\n",
        "dataset.isna().sum()"
      ],
      "metadata": {
        "colab": {
          "base_uri": "https://localhost:8080/"
        },
        "id": "exzL8LU3E1Ig",
        "outputId": "01205133-ad03-430e-a45c-b86b9b8e9541"
      },
      "execution_count": null,
      "outputs": [
        {
          "output_type": "execute_result",
          "data": {
            "text/plain": [
              "TV           0\n",
              "Radio        0\n",
              "Newspaper    0\n",
              "Sales        0\n",
              "dtype: int64"
            ]
          },
          "metadata": {},
          "execution_count": 7
        }
      ]
    },
    {
      "cell_type": "code",
      "source": [
        "dataset.duplicated().any()"
      ],
      "metadata": {
        "colab": {
          "base_uri": "https://localhost:8080/"
        },
        "id": "56GYOFcvE-9n",
        "outputId": "19684e50-bbd3-4dd9-ef2e-7bf6bf5cf4d7"
      },
      "execution_count": null,
      "outputs": [
        {
          "output_type": "execute_result",
          "data": {
            "text/plain": [
              "False"
            ]
          },
          "metadata": {},
          "execution_count": 8
        }
      ]
    },
    {
      "cell_type": "code",
      "source": [
        "#Checking for Outliers\n",
        "fig,axs = plt.subplots(3, figsize = (5,5))\n",
        "plt1 = sns.boxplot(dataset['TV'], ax = axs[0])\n",
        "plt2 = sns.boxplot(dataset['Newspaper'], ax = axs[1])\n",
        "plt3 = sns.boxplot(dataset['Radio'], ax = axs[2])\n",
        "plt.tight_layout()"
      ],
      "metadata": {
        "colab": {
          "base_uri": "https://localhost:8080/",
          "height": 500
        },
        "id": "zB6zHhymGLQ8",
        "outputId": "3859be30-1e77-4d9e-d4cd-2d2af6eed218"
      },
      "execution_count": null,
      "outputs": [
        {
          "output_type": "stream",
          "name": "stderr",
          "text": [
            "/usr/local/lib/python3.7/dist-packages/seaborn/_decorators.py:43: FutureWarning: Pass the following variable as a keyword arg: x. From version 0.12, the only valid positional argument will be `data`, and passing other arguments without an explicit keyword will result in an error or misinterpretation.\n",
            "  FutureWarning\n",
            "/usr/local/lib/python3.7/dist-packages/seaborn/_decorators.py:43: FutureWarning: Pass the following variable as a keyword arg: x. From version 0.12, the only valid positional argument will be `data`, and passing other arguments without an explicit keyword will result in an error or misinterpretation.\n",
            "  FutureWarning\n",
            "/usr/local/lib/python3.7/dist-packages/seaborn/_decorators.py:43: FutureWarning: Pass the following variable as a keyword arg: x. From version 0.12, the only valid positional argument will be `data`, and passing other arguments without an explicit keyword will result in an error or misinterpretation.\n",
            "  FutureWarning\n"
          ]
        },
        {
          "output_type": "display_data",
          "data": {
            "text/plain": [
              "<Figure size 360x360 with 3 Axes>"
            ],
            "image/png": "[encoded data removed]"
          },
          "metadata": {
            "needs_background": "light"
          }
        }
      ]
    },
    {
      "cell_type": "markdown",
      "source": [
        "# New Section"
      ],
      "metadata": {
        "id": "SDRFcjMGVSlq"
      }
    },
    {
      "cell_type": "code",
      "source": [
        "#Distribution of Target variable\n",
        "sns.distplot(dataset['Sales']);"
      ],
      "metadata": {
        "colab": {
          "base_uri": "https://localhost:8080/",
          "height": 336
        },
        "id": "-k0R5kdeHjzK",
        "outputId": "f641dc7c-9adf-47c8-947c-4c9aa2ec9be4"
      },
      "execution_count": null,
      "outputs": [
        {
          "output_type": "stream",
          "name": "stderr",
          "text": [
            "/usr/local/lib/python3.7/dist-packages/seaborn/distributions.py:2619: FutureWarning: `distplot` is a deprecated function and will be removed in a future version. Please adapt your code to use either `displot` (a figure-level function with similar flexibility) or `histplot` (an axes-level function for histograms).\n",
            "  warnings.warn(msg, FutureWarning)\n"
          ]
        },
        {
          "output_type": "display_data",
          "data": {
            "text/plain": [
              "<Figure size 432x288 with 1 Axes>"
            ],
            "image/png": "[encoded data removed]"
          },
          "metadata": {
            "needs_background": "light"
          }
        }
      ]
    },
    {
      "cell_type": "code",
      "source": [
        "#How sales are related with other variables\n",
        "sns.pairplot(dataset, x_vars=['TV', 'Radio', 'Newspaper'], y_vars='Sales', height=4, aspect=1, kind='scatter')\n",
        "plt.show()"
      ],
      "metadata": {
        "colab": {
          "base_uri": "https://localhost:8080/",
          "height": 303
        },
        "id": "07nwv1x5IKPO",
        "outputId": "7cb4a2f7-f8e7-46ea-ca9f-a22604af2d84"
      },
      "execution_count": null,
      "outputs": [
        {
          "output_type": "display_data",
          "data": {
            "text/plain": [
              "<Figure size 864x288 with 3 Axes>"
            ],
            "image/png": "[encoded data removed]"
          },
          "metadata": {
            "needs_background": "light"
          }
        }
      ]
    },
    {
      "cell_type": "code",
      "source": [
        "#Heatmap\n",
        "sns.heatmap(dataset.corr(), annot = True)\n",
        "plt.show()"
      ],
      "metadata": {
        "colab": {
          "base_uri": "https://localhost:8080/",
          "height": 269
        },
        "id": "doouHKk7KQUH",
        "outputId": "139b80f8-8a2a-456c-ace2-633d3a528038"
      },
      "execution_count": null,
      "outputs": [
        {
          "output_type": "display_data",
          "data": {
            "text/plain": [
              "<Figure size 432x288 with 2 Axes>"
            ],
            "image/png": "[encoded data removed]"
          },
          "metadata": {
            "needs_background": "light"
          }
        }
      ]
    },
    {
      "cell_type": "markdown",
      "source": [
        "### 3.Model Description"
      ],
      "metadata": {
        "id": "OIVdquW9iWXh"
      }
    },
    {
      "cell_type": "code",
      "source": [
        "#Simple linear Regression\n",
        "from sklearn.model_selection import train_test_split\n",
        "from sklearn.linear_model import LinearRegression\n",
        "from sklearn import metrics"
      ],
      "metadata": {
        "id": "UaN8FyxWKy8M"
      },
      "execution_count": null,
      "outputs": []
    },
    {
      "cell_type": "markdown",
      "source": [
        "[**3.a Single Regression**]"
      ],
      "metadata": {
        "id": "azXOjY8Sidqw"
      }
    },
    {
      "cell_type": "code",
      "source": [
        "#Setting the value for X and Y\n",
        "x = dataset[['TV']]\n",
        "y = dataset['Sales']"
      ],
      "metadata": {
        "id": "GJV4lHfULZw7"
      },
      "execution_count": null,
      "outputs": []
    },
    {
      "cell_type": "code",
      "source": [
        "x_train, x_test, y_train, y_test = train_test_split(x, y, test_size = 0.3, random_state = 100)"
      ],
      "metadata": {
        "id": "04utyM6LLch_"
      },
      "execution_count": null,
      "outputs": []
    },
    {
      "cell_type": "code",
      "source": [
        "slr= LinearRegression()\n",
        "slr.fit(x_train.values, y_train)"
      ],
      "metadata": {
        "colab": {
          "base_uri": "https://localhost:8080/"
        },
        "id": "mW1FV3rZLhXj",
        "outputId": "954e096d-1f8f-4a77-c68f-eaede400a4f8"
      },
      "execution_count": null,
      "outputs": [
        {
          "output_type": "execute_result",
          "data": {
            "text/plain": [
              "LinearRegression()"
            ]
          },
          "metadata": {},
          "execution_count": 16
        }
      ]
    },
    {
      "cell_type": "code",
      "source": [
        "#Printing the model coefficients\n",
        "print('Intercept: ', slr.intercept_)\n",
        "print('Coefficient:', slr.coef_)"
      ],
      "metadata": {
        "colab": {
          "base_uri": "https://localhost:8080/"
        },
        "id": "OkpaxphtLpO3",
        "outputId": "614c23a0-02f2-4515-f9a4-6eae984e32a4"
      },
      "execution_count": null,
      "outputs": [
        {
          "output_type": "stream",
          "name": "stdout",
          "text": [
            "Intercept:  6.948683200001357\n",
            "Coefficient: [0.05454575]\n"
          ]
        }
      ]
    },
    {
      "cell_type": "code",
      "source": [
        "print('Regression Equation: Sales = 6.948 + 0.054 * TV')"
      ],
      "metadata": {
        "colab": {
          "base_uri": "https://localhost:8080/"
        },
        "id": "V_hGofifLtE_",
        "outputId": "d3b2a385-3d84-4314-a9dc-ed54bc8b336e"
      },
      "execution_count": null,
      "outputs": [
        {
          "output_type": "stream",
          "name": "stdout",
          "text": [
            "Regression Equation: Sales = 6.948 + 0.054 * TV\n"
          ]
        }
      ]
    },
    {
      "cell_type": "code",
      "source": [
        "#Line of best fit\n",
        "plt.scatter(x_train, y_train)\n",
        "plt.plot(x_train, 6.948 + 0.054*x_train, 'r')\n",
        "plt.show()"
      ],
      "metadata": {
        "colab": {
          "base_uri": "https://localhost:8080/",
          "height": 265
        },
        "id": "Q3oHtJccLvqs",
        "outputId": "a687ac37-9c47-493c-fd5a-63ac56d6ce78"
      },
      "execution_count": null,
      "outputs": [
        {
          "output_type": "display_data",
          "data": {
            "text/plain": [
              "<Figure size 432x288 with 1 Axes>"
            ],
            "image/png": "[encoded data removed]"
          },
          "metadata": {
            "needs_background": "light"
          }
        }
      ]
    },
    {
      "cell_type": "code",
      "source": [
        "#Prediction of Test and Training set result\n",
        "y_pred_slr= slr.predict(x_test.values)\n",
        "x_pred_slr= slr.predict(x_train.values)"
      ],
      "metadata": {
        "id": "wRENiWlmLyRh"
      },
      "execution_count": null,
      "outputs": []
    },
    {
      "cell_type": "code",
      "source": [
        "print(\"Prediction for test set: {}\".format(y_pred_slr))"
      ],
      "metadata": {
        "colab": {
          "base_uri": "https://localhost:8080/"
        },
        "id": "WymWR5yQL3Yh",
        "outputId": "fd25c8f7-4f59-4509-e207-84c5a6bf233c"
      },
      "execution_count": null,
      "outputs": [
        {
          "output_type": "stream",
          "name": "stdout",
          "text": [
            "Prediction for test set: [ 7.37414007 19.94148154 14.32326899 18.82329361 20.13239168 18.2287449\n",
            " 14.54145201 17.72692398 18.75238413 18.77420243 13.34144544 19.46693349\n",
            " 10.01415451 17.1923756  11.70507285 12.08689312 15.11418241 16.23237035\n",
            " 15.8669138  13.1068987  18.65965635 14.00690363 17.60692332 16.60328147\n",
            " 17.03419291 18.96511257 18.93783969 11.05597839 17.03419291 13.66326538\n",
            " 10.6796127  10.71234015 13.5487193  17.22510305  9.67597085 13.52144643\n",
            " 12.25053038 16.13418799 19.07965865 17.48692266 18.69783838 16.53237199\n",
            " 15.92145955 18.86693021 13.5050827  11.84143724  7.87050642 20.51966653\n",
            " 10.79961336  9.03233096 17.99419817 16.29237067 11.04506924 14.09963141\n",
            " 18.44147334  9.3759692   7.88687015  8.34505447 17.72692398 11.62325422]\n"
          ]
        }
      ]
    },
    {
      "cell_type": "code",
      "source": [
        "#Actual value and the predicted value\n",
        "slr_diff = pd.DataFrame({'Actual value': y_test, 'Predicted value': y_pred_slr})\n",
        "slr_diff"
      ],
      "metadata": {
        "colab": {
          "base_uri": "https://localhost:8080/",
          "height": 1000
        },
        "id": "8hnYTybTL3gA",
        "outputId": "906a9eec-b94e-4510-9e5b-9430543c4af6"
      },
      "execution_count": null,
      "outputs": [
        {
          "output_type": "execute_result",
          "data": {
            "text/plain": [
              "     Actual value  Predicted value\n",
              "126           6.6         7.374140\n",
              "104          20.7        19.941482\n",
              "99           17.2        14.323269\n",
              "92           19.4        18.823294\n",
              "111          21.8        20.132392\n",
              "167          17.2        18.228745\n",
              "116          12.2        14.541452\n",
              "96           16.7        17.726924\n",
              "52           22.6        18.752384\n",
              "69           22.3        18.774202\n",
              "164          11.9        13.341445\n",
              "124          19.7        19.466933\n",
              "182           8.7        10.014155\n",
              "154          20.6        17.192376\n",
              "125          10.6        11.705073\n",
              "196          14.0        12.086893\n",
              "194          17.3        15.114182\n",
              "177          16.7        16.232370\n",
              "163          18.0        15.866914\n",
              "31           11.9        13.106899\n",
              "11           17.4        18.659656\n",
              "73           11.0        14.006904\n",
              "15           22.4        17.606923\n",
              "41           17.1        16.603281\n",
              "97           20.5        17.034193\n",
              "128          24.7        18.965113\n",
              "133          19.6        18.937840\n",
              "82           11.3        11.055978\n",
              "139          20.7        17.034193\n",
              "123          15.2        13.663265\n",
              "83           13.6        10.679613\n",
              "65           11.3        10.712340\n",
              "151          11.6        13.548719\n",
              "162          19.9        17.225103\n",
              "170           8.4         9.675971\n",
              "77           14.2        13.521446\n",
              "32           13.2        12.250530\n",
              "173          16.7        16.134188\n",
              "174          16.5        19.079659\n",
              "85           20.2        17.486923\n",
              "168          17.1        18.697838\n",
              "112          17.1        16.532372\n",
              "171          17.5        15.921460\n",
              "181          17.2        18.866930\n",
              "7            13.2        13.505083\n",
              "46           10.6        11.841437\n",
              "75            8.7         7.870506\n",
              "28           18.9        20.519667\n",
              "29           10.5        10.799613\n",
              "195           7.6         9.032331\n",
              "40           16.6        17.994198\n",
              "153          16.0        16.292371\n",
              "115          12.6        11.045069\n",
              "64           16.0        14.099631\n",
              "59           18.4        18.441473\n",
              "1            10.4         9.375969\n",
              "192           5.9         7.886870\n",
              "136           9.5         8.345054\n",
              "152          16.6        17.726924\n",
              "161          13.3        11.623254"
            ],
            "text/html": [
              "\n",
              "  <div id=\"df-87dce166-2ee8-4df1-95ee-e8667097eace\">\n",
              "    <div class=\"colab-df-container\">\n",
              "      <div>\n",
              "<style scoped>\n",
              "    .dataframe tbody tr th:only-of-type {\n",
              "        vertical-align: middle;\n",
              "    }\n",
              "\n",
              "    .dataframe tbody tr th {\n",
              "        vertical-align: top;\n",
              "    }\n",
              "\n",
              "    .dataframe thead th {\n",
              "        text-align: right;\n",
              "    }\n",
              "</style>\n",
              "<table border=\"1\" class=\"dataframe\">\n",
              "  <thead>\n",
              "    <tr style=\"text-align: right;\">\n",
              "      <th></th>\n",
              "      <th>Actual value</th>\n",
              "      <th>Predicted value</th>\n",
              "    </tr>\n",
              "  </thead>\n",
              "  <tbody>\n",
              "    <tr>\n",
              "      <th>126</th>\n",
              "      <td>6.6</td>\n",
              "      <td>7.374140</td>\n",
              "    </tr>\n",
              "    <tr>\n",
              "      <th>104</th>\n",
              "      <td>20.7</td>\n",
              "      <td>19.941482</td>\n",
              "    </tr>\n",
              "    <tr>\n",
              "      <th>99</th>\n",
              "      <td>17.2</td>\n",
              "      <td>14.323269</td>\n",
              "    </tr>\n",
              "    <tr>\n",
              "      <th>92</th>\n",
              "      <td>19.4</td>\n",
              "      <td>18.823294</td>\n",
              "    </tr>\n",
              "    <tr>\n",
              "      <th>111</th>\n",
              "      <td>21.8</td>\n",
              "      <td>20.132392</td>\n",
              "    </tr>\n",
              "    <tr>\n",
              "      <th>167</th>\n",
              "      <td>17.2</td>\n",
              "      <td>18.228745</td>\n",
              "    </tr>\n",
              "    <tr>\n",
              "      <th>116</th>\n",
              "      <td>12.2</td>\n",
              "      <td>14.541452</td>\n",
              "    </tr>\n",
              "    <tr>\n",
              "      <th>96</th>\n",
              "      <td>16.7</td>\n",
              "      <td>17.726924</td>\n",
              "    </tr>\n",
              "    <tr>\n",
              "      <th>52</th>\n",
              "      <td>22.6</td>\n",
              "      <td>18.752384</td>\n",
              "    </tr>\n",
              "    <tr>\n",
              "      <th>69</th>\n",
              "      <td>22.3</td>\n",
              "      <td>18.774202</td>\n",
              "    </tr>\n",
              "    <tr>\n",
              "      <th>164</th>\n",
              "      <td>11.9</td>\n",
              "      <td>13.341445</td>\n",
              "    </tr>\n",
              "    <tr>\n",
              "      <th>124</th>\n",
              "      <td>19.7</td>\n",
              "      <td>19.466933</td>\n",
              "    </tr>\n",
              "    <tr>\n",
              "      <th>182</th>\n",
              "      <td>8.7</td>\n",
              "      <td>10.014155</td>\n",
              "    </tr>\n",
              "    <tr>\n",
              "      <th>154</th>\n",
              "      <td>20.6</td>\n",
              "      <td>17.192376</td>\n",
              "    </tr>\n",
              "    <tr>\n",
              "      <th>125</th>\n",
              "      <td>10.6</td>\n",
              "      <td>11.705073</td>\n",
              "    </tr>\n",
              "    <tr>\n",
              "      <th>196</th>\n",
              "      <td>14.0</td>\n",
              "      <td>12.086893</td>\n",
              "    </tr>\n",
              "    <tr>\n",
              "      <th>194</th>\n",
              "      <td>17.3</td>\n",
              "      <td>15.114182</td>\n",
              "    </tr>\n",
              "    <tr>\n",
              "      <th>177</th>\n",
              "      <td>16.7</td>\n",
              "      <td>16.232370</td>\n",
              "    </tr>\n",
              "    <tr>\n",
              "      <th>163</th>\n",
              "      <td>18.0</td>\n",
              "      <td>15.866914</td>\n",
              "    </tr>\n",
              "    <tr>\n",
              "      <th>31</th>\n",
              "      <td>11.9</td>\n",
              "      <td>13.106899</td>\n",
              "    </tr>\n",
              "    <tr>\n",
              "      <th>11</th>\n",
              "      <td>17.4</td>\n",
              "      <td>18.659656</td>\n",
              "    </tr>\n",
              "    <tr>\n",
              "      <th>73</th>\n",
              "      <td>11.0</td>\n",
              "      <td>14.006904</td>\n",
              "    </tr>\n",
              "    <tr>\n",
              "      <th>15</th>\n",
              "      <td>22.4</td>\n",
              "      <td>17.606923</td>\n",
              "    </tr>\n",
              "    <tr>\n",
              "      <th>41</th>\n",
              "      <td>17.1</td>\n",
              "      <td>16.603281</td>\n",
              "    </tr>\n",
              "    <tr>\n",
              "      <th>97</th>\n",
              "      <td>20.5</td>\n",
              "      <td>17.034193</td>\n",
              "    </tr>\n",
              "    <tr>\n",
              "      <th>128</th>\n",
              "      <td>24.7</td>\n",
              "      <td>18.965113</td>\n",
              "    </tr>\n",
              "    <tr>\n",
              "      <th>133</th>\n",
              "      <td>19.6</td>\n",
              "      <td>18.937840</td>\n",
              "    </tr>\n",
              "    <tr>\n",
              "      <th>82</th>\n",
              "      <td>11.3</td>\n",
              "      <td>11.055978</td>\n",
              "    </tr>\n",
              "    <tr>\n",
              "      <th>139</th>\n",
              "      <td>20.7</td>\n",
              "      <td>17.034193</td>\n",
              "    </tr>\n",
              "    <tr>\n",
              "      <th>123</th>\n",
              "      <td>15.2</td>\n",
              "      <td>13.663265</td>\n",
              "    </tr>\n",
              "    <tr>\n",
              "      <th>83</th>\n",
              "      <td>13.6</td>\n",
              "      <td>10.679613</td>\n",
              "    </tr>\n",
              "    <tr>\n",
              "      <th>65</th>\n",
              "      <td>11.3</td>\n",
              "      <td>10.712340</td>\n",
              "    </tr>\n",
              "    <tr>\n",
              "      <th>151</th>\n",
              "      <td>11.6</td>\n",
              "      <td>13.548719</td>\n",
              "    </tr>\n",
              "    <tr>\n",
              "      <th>162</th>\n",
              "      <td>19.9</td>\n",
              "      <td>17.225103</td>\n",
              "    </tr>\n",
              "    <tr>\n",
              "      <th>170</th>\n",
              "      <td>8.4</td>\n",
              "      <td>9.675971</td>\n",
              "    </tr>\n",
              "    <tr>\n",
              "      <th>77</th>\n",
              "      <td>14.2</td>\n",
              "      <td>13.521446</td>\n",
              "    </tr>\n",
              "    <tr>\n",
              "      <th>32</th>\n",
              "      <td>13.2</td>\n",
              "      <td>12.250530</td>\n",
              "    </tr>\n",
              "    <tr>\n",
              "      <th>173</th>\n",
              "      <td>16.7</td>\n",
              "      <td>16.134188</td>\n",
              "    </tr>\n",
              "    <tr>\n",
              "      <th>174</th>\n",
              "      <td>16.5</td>\n",
              "      <td>19.079659</td>\n",
              "    </tr>\n",
              "    <tr>\n",
              "      <th>85</th>\n",
              "      <td>20.2</td>\n",
              "      <td>17.486923</td>\n",
              "    </tr>\n",
              "    <tr>\n",
              "      <th>168</th>\n",
              "      <td>17.1</td>\n",
              "      <td>18.697838</td>\n",
              "    </tr>\n",
              "    <tr>\n",
              "      <th>112</th>\n",
              "      <td>17.1</td>\n",
              "      <td>16.532372</td>\n",
              "    </tr>\n",
              "    <tr>\n",
              "      <th>171</th>\n",
              "      <td>17.5</td>\n",
              "      <td>15.921460</td>\n",
              "    </tr>\n",
              "    <tr>\n",
              "      <th>181</th>\n",
              "      <td>17.2</td>\n",
              "      <td>18.866930</td>\n",
              "    </tr>\n",
              "    <tr>\n",
              "      <th>7</th>\n",
              "      <td>13.2</td>\n",
              "      <td>13.505083</td>\n",
              "    </tr>\n",
              "    <tr>\n",
              "      <th>46</th>\n",
              "      <td>10.6</td>\n",
              "      <td>11.841437</td>\n",
              "    </tr>\n",
              "    <tr>\n",
              "      <th>75</th>\n",
              "      <td>8.7</td>\n",
              "      <td>7.870506</td>\n",
              "    </tr>\n",
              "    <tr>\n",
              "      <th>28</th>\n",
              "      <td>18.9</td>\n",
              "      <td>20.519667</td>\n",
              "    </tr>\n",
              "    <tr>\n",
              "      <th>29</th>\n",
              "      <td>10.5</td>\n",
              "      <td>10.799613</td>\n",
              "    </tr>\n",
              "    <tr>\n",
              "      <th>195</th>\n",
              "      <td>7.6</td>\n",
              "      <td>9.032331</td>\n",
              "    </tr>\n",
              "    <tr>\n",
              "      <th>40</th>\n",
              "      <td>16.6</td>\n",
              "      <td>17.994198</td>\n",
              "    </tr>\n",
              "    <tr>\n",
              "      <th>153</th>\n",
              "      <td>16.0</td>\n",
              "      <td>16.292371</td>\n",
              "    </tr>\n",
              "    <tr>\n",
              "      <th>115</th>\n",
              "      <td>12.6</td>\n",
              "      <td>11.045069</td>\n",
              "    </tr>\n",
              "    <tr>\n",
              "      <th>64</th>\n",
              "      <td>16.0</td>\n",
              "      <td>14.099631</td>\n",
              "    </tr>\n",
              "    <tr>\n",
              "      <th>59</th>\n",
              "      <td>18.4</td>\n",
              "      <td>18.441473</td>\n",
              "    </tr>\n",
              "    <tr>\n",
              "      <th>1</th>\n",
              "      <td>10.4</td>\n",
              "      <td>9.375969</td>\n",
              "    </tr>\n",
              "    <tr>\n",
              "      <th>192</th>\n",
              "      <td>5.9</td>\n",
              "      <td>7.886870</td>\n",
              "    </tr>\n",
              "    <tr>\n",
              "      <th>136</th>\n",
              "      <td>9.5</td>\n",
              "      <td>8.345054</td>\n",
              "    </tr>\n",
              "    <tr>\n",
              "      <th>152</th>\n",
              "      <td>16.6</td>\n",
              "      <td>17.726924</td>\n",
              "    </tr>\n",
              "    <tr>\n",
              "      <th>161</th>\n",
              "      <td>13.3</td>\n",
              "      <td>11.623254</td>\n",
              "    </tr>\n",
              "  </tbody>\n",
              "</table>\n",
              "</div>\n",
              "      <button class=\"colab-df-convert\" onclick=\"convertToInteractive('df-87dce166-2ee8-4df1-95ee-e8667097eace')\"\n",
              "              title=\"Convert this dataframe to an interactive table.\"\n",
              "              style=\"display:none;\">\n",
              "        \n",
              "  <svg xmlns=\"http://www.w3.org/2000/svg\" height=\"24px\"viewBox=\"0 0 24 24\"\n",
              "       width=\"24px\">\n",
              "    <path d=\"M0 0h24v24H0V0z\" fill=\"none\"/>\n",
              "    <path d=\"M18.56 5.44l.94 2.06.94-2.06 2.06-.94-2.06-.94-.94-2.06-.94 2.06-2.06.94zm-11 1L8.5 8.5l.94-2.06 2.06-.94-2.06-.94L8.5 2.5l-.94 2.06-2.06.94zm10 10l.94 2.06.94-2.06 2.06-.94-2.06-.94-.94-2.06-.94 2.06-2.06.94z\"/><path d=\"M17.41 7.96l-1.37-1.37c-.4-.4-.92-.59-1.43-.59-.52 0-1.04.2-1.43.59L10.3 9.45l-7.72 7.72c-.78.78-.78 2.05 0 2.83L4 21.41c.39.39.9.59 1.41.59.51 0 1.02-.2 1.41-.59l7.78-7.78 2.81-2.81c.8-.78.8-2.07 0-2.86zM5.41 20L4 18.59l7.72-7.72 1.47 1.35L5.41 20z\"/>\n",
              "  </svg>\n",
              "      </button>\n",
              "      \n",
              "  <style>\n",
              "    .colab-df-container {\n",
              "      display:flex;\n",
              "      flex-wrap:wrap;\n",
              "      gap: 12px;\n",
              "    }\n",
              "\n",
              "    .colab-df-convert {\n",
              "      background-color: #E8F0FE;\n",
              "      border: none;\n",
              "      border-radius: 50%;\n",
              "      cursor: pointer;\n",
              "      display: none;\n",
              "      fill: #1967D2;\n",
              "      height: 32px;\n",
              "      padding: 0 0 0 0;\n",
              "      width: 32px;\n",
              "    }\n",
              "\n",
              "    .colab-df-convert:hover {\n",
              "      background-color: #E2EBFA;\n",
              "      box-shadow: 0px 1px 2px rgba(60, 64, 67, 0.3), 0px 1px 3px 1px rgba(60, 64, 67, 0.15);\n",
              "      fill: #174EA6;\n",
              "    }\n",
              "\n",
              "    [theme=dark] .colab-df-convert {\n",
              "      background-color: #3B4455;\n",
              "      fill: #D2E3FC;\n",
              "    }\n",
              "\n",
              "    [theme=dark] .colab-df-convert:hover {\n",
              "      background-color: #434B5C;\n",
              "      box-shadow: 0px 1px 3px 1px rgba(0, 0, 0, 0.15);\n",
              "      filter: drop-shadow(0px 1px 2px rgba(0, 0, 0, 0.3));\n",
              "      fill: #FFFFFF;\n",
              "    }\n",
              "  </style>\n",
              "\n",
              "      <script>\n",
              "        const buttonEl =\n",
              "          document.querySelector('#df-87dce166-2ee8-4df1-95ee-e8667097eace button.colab-df-convert');\n",
              "        buttonEl.style.display =\n",
              "          google.colab.kernel.accessAllowed ? 'block' : 'none';\n",
              "\n",
              "        async function convertToInteractive(key) {\n",
              "          const element = document.querySelector('#df-87dce166-2ee8-4df1-95ee-e8667097eace');\n",
              "          const dataTable =\n",
              "            await google.colab.kernel.invokeFunction('convertToInteractive',\n",
              "                                                     [key], {});\n",
              "          if (!dataTable) return;\n",
              "\n",
              "          const docLinkHtml = 'Like what you see? Visit the ' +\n",
              "            '<a target=\"_blank\" href=https://colab.research.google.com/notebooks/data_table.ipynb>data table notebook</a>'\n",
              "            + ' to learn more about interactive tables.';\n",
              "          element.innerHTML = '';\n",
              "          dataTable['output_type'] = 'display_data';\n",
              "          await google.colab.output.renderOutput(dataTable, element);\n",
              "          const docLink = document.createElement('div');\n",
              "          docLink.innerHTML = docLinkHtml;\n",
              "          element.appendChild(docLink);\n",
              "        }\n",
              "      </script>\n",
              "    </div>\n",
              "  </div>\n",
              "  "
            ]
          },
          "metadata": {},
          "execution_count": 22
        }
      ]
    },
    {
      "cell_type": "code",
      "source": [
        "plt.plot(y_test.values, color = 'red', label = 'Real data')\n",
        "plt.plot(y_pred_slr, color = 'blue', label = 'Predicted data')\n",
        "plt.title('Prediction')\n",
        "plt.legend()\n",
        "plt.show()"
      ],
      "metadata": {
        "colab": {
          "base_uri": "https://localhost:8080/",
          "height": 281
        },
        "id": "yxhFh_qAMGem",
        "outputId": "c771b20a-5d54-4db8-ee29-ba882a23a0b4"
      },
      "execution_count": null,
      "outputs": [
        {
          "output_type": "display_data",
          "data": {
            "text/plain": [
              "<Figure size 432x288 with 1 Axes>"
            ],
            "image/png": "[encoded data removed]"
          },
          "metadata": {
            "needs_background": "light"
          }
        }
      ]
    },
    {
      "cell_type": "code",
      "source": [
        "#Predict for any value\n",
        "slr.predict([[56]])"
      ],
      "metadata": {
        "colab": {
          "base_uri": "https://localhost:8080/"
        },
        "id": "QmyXnRL1MKkv",
        "outputId": "873cbb9b-2e20-4478-ab21-abd9ce1b3b48"
      },
      "execution_count": null,
      "outputs": [
        {
          "output_type": "execute_result",
          "data": {
            "text/plain": [
              "array([10.00324536])"
            ]
          },
          "metadata": {},
          "execution_count": 24
        }
      ]
    },
    {
      "cell_type": "code",
      "source": [
        "# print the R-squared value for the model\n",
        "from sklearn.metrics import accuracy_score\n",
        "print('R squared value of the model: {:.2f}'.format(slr.score(x,y)*100))"
      ],
      "metadata": {
        "colab": {
          "base_uri": "https://localhost:8080/"
        },
        "id": "gBCmyDnsMNrV",
        "outputId": "b25be5e7-6cfa-4025-8ff6-4a485f4ba20a"
      },
      "execution_count": null,
      "outputs": [
        {
          "output_type": "stream",
          "name": "stdout",
          "text": [
            "R squared value of the model: 81.10\n"
          ]
        },
        {
          "output_type": "stream",
          "name": "stderr",
          "text": [
            "/usr/local/lib/python3.7/dist-packages/sklearn/base.py:444: UserWarning: X has feature names, but LinearRegression was fitted without feature names\n",
            "  f\"X has feature names, but {self.__class__.__name__} was fitted without\"\n"
          ]
        }
      ]
    },
    {
      "cell_type": "markdown",
      "source": [
        "### **4.Performance Analysis(Single Regression)**\n"
      ],
      "metadata": {
        "id": "gUHMIxGJi1Aw"
      }
    },
    {
      "cell_type": "code",
      "source": [
        "# 0 means the model is perfect. Therefore the value should be as close to 0 as possible\n",
        "meanAbErr = metrics.mean_absolute_error(y_test, y_pred_slr)\n",
        "meanSqErr = metrics.mean_squared_error(y_test, y_pred_slr)\n",
        "rootMeanSqErr = np.sqrt(metrics.mean_squared_error(y_test, y_pred_slr))\n",
        "print('Mean Absolute Error:', meanAbErr)\n",
        "print('Mean Square Error:', meanSqErr)\n",
        "print('Root Mean Square Error:', rootMeanSqErr)"
      ],
      "metadata": {
        "colab": {
          "base_uri": "https://localhost:8080/"
        },
        "id": "Kj7vkNMvMR13",
        "outputId": "d58f7eef-0172-4927-eed8-0641dc8bc39b"
      },
      "execution_count": null,
      "outputs": [
        {
          "output_type": "stream",
          "name": "stdout",
          "text": [
            "Mean Absolute Error: 1.6480589869746525\n",
            "Mean Square Error: 4.077556371826948\n",
            "Root Mean Square Error: 2.019296008966231\n"
          ]
        }
      ]
    },
    {
      "cell_type": "markdown",
      "source": [
        "**3.b Multiple Regression**"
      ],
      "metadata": {
        "id": "dx5QY5E6i5Ub"
      }
    },
    {
      "cell_type": "code",
      "source": [
        "#Multiple Regression\n",
        "#Setting the value for X and Y\n",
        "x = dataset[['TV', 'Radio', 'Newspaper']]\n",
        "y = dataset['Sales']"
      ],
      "metadata": {
        "id": "b8EgMSDHMduc"
      },
      "execution_count": null,
      "outputs": []
    },
    {
      "cell_type": "code",
      "source": [
        "x_train, x_test, y_train, y_test= train_test_split(x, y, test_size= 0.3, random_state=100)"
      ],
      "metadata": {
        "id": "Y817f3YGM7K3"
      },
      "execution_count": null,
      "outputs": []
    },
    {
      "cell_type": "code",
      "source": [
        "mlr= LinearRegression()\n",
        "mlr.fit(x_train.values, y_train)"
      ],
      "metadata": {
        "colab": {
          "base_uri": "https://localhost:8080/"
        },
        "id": "HI4RFwFwM-FE",
        "outputId": "58c4235c-1236-4d2e-e4ab-6f7b4d814e99"
      },
      "execution_count": null,
      "outputs": [
        {
          "output_type": "execute_result",
          "data": {
            "text/plain": [
              "LinearRegression()"
            ]
          },
          "metadata": {},
          "execution_count": 29
        }
      ]
    },
    {
      "cell_type": "code",
      "source": [
        "#Printing the model coefficients\n",
        "print(mlr.intercept_)\n",
        "# pair the feature names with the coefficients\n",
        "list(zip(x, mlr.coef_))"
      ],
      "metadata": {
        "colab": {
          "base_uri": "https://localhost:8080/"
        },
        "id": "M4QcXHy4NCcd",
        "outputId": "f1c36bc2-9b45-4d1c-8d56-b61fff637679"
      },
      "execution_count": null,
      "outputs": [
        {
          "output_type": "stream",
          "name": "stdout",
          "text": [
            "4.334595861728431\n"
          ]
        },
        {
          "output_type": "execute_result",
          "data": {
            "text/plain": [
              "[('TV', 0.053829108667250075),\n",
              " ('Radio', 0.11001224388558055),\n",
              " ('Newspaper', 0.0062899501461303325)]"
            ]
          },
          "metadata": {},
          "execution_count": 30
        }
      ]
    },
    {
      "cell_type": "code",
      "source": [
        "#Predicting the Test and Train set result\n",
        "y_pred_mlr= mlr.predict(x_test.values)\n",
        "x_pred_mlr= mlr.predict(x_train.values)"
      ],
      "metadata": {
        "id": "MnMazUM6NFgN"
      },
      "execution_count": null,
      "outputs": []
    },
    {
      "cell_type": "code",
      "source": [
        "print(\"Prediction for test set: {}\".format(y_pred_mlr))"
      ],
      "metadata": {
        "colab": {
          "base_uri": "https://localhost:8080/"
        },
        "id": "M3vqZrchNInk",
        "outputId": "0fd2ed87-c12e-48fb-eef2-11198a7915a2"
      },
      "execution_count": null,
      "outputs": [
        {
          "output_type": "stream",
          "name": "stdout",
          "text": [
            "Prediction for test set: [ 9.35221067 20.96344625 16.48851064 20.10971005 21.67148354 16.16054424\n",
            " 13.5618056  15.39338129 20.81980757 21.00537077 12.29451311 20.70848608\n",
            "  8.17367308 16.82471534 10.48954832  9.99530649 16.34698901 14.5758119\n",
            " 17.23065133 12.56890735 18.55715915 12.12402775 20.43312609 17.78017811\n",
            " 16.73623408 21.60387629 20.13532087 10.82559967 19.12782848 14.84537816\n",
            " 13.13597397  9.07757918 12.07834143 16.62824427  8.41792841 14.0456697\n",
            "  9.92050209 14.26101605 16.76262961 17.17185467 18.88797595 15.50165469\n",
            " 15.78688377 16.86266686 13.03405813 10.47673934 10.6141644  20.85264977\n",
            " 10.1517568   6.88471443 17.88702583 18.16013938 12.55907083 16.28189561\n",
            " 18.98024679 11.33714913  5.91026916 10.06159509 17.62383031 13.19628335]\n"
          ]
        }
      ]
    },
    {
      "cell_type": "code",
      "source": [
        "#Actual value and the predicted value\n",
        "mlr_diff = pd.DataFrame({'Actual value': y_test, 'Predicted value': y_pred_mlr})\n",
        "mlr_diff"
      ],
      "metadata": {
        "colab": {
          "base_uri": "https://localhost:8080/",
          "height": 1000
        },
        "id": "VtctvUF3NMu0",
        "outputId": "47ab4a96-79d5-4fc4-ad94-8908f156639c"
      },
      "execution_count": null,
      "outputs": [
        {
          "output_type": "execute_result",
          "data": {
            "text/plain": [
              "     Actual value  Predicted value\n",
              "126           6.6         9.352211\n",
              "104          20.7        20.963446\n",
              "99           17.2        16.488511\n",
              "92           19.4        20.109710\n",
              "111          21.8        21.671484\n",
              "167          17.2        16.160544\n",
              "116          12.2        13.561806\n",
              "96           16.7        15.393381\n",
              "52           22.6        20.819808\n",
              "69           22.3        21.005371\n",
              "164          11.9        12.294513\n",
              "124          19.7        20.708486\n",
              "182           8.7         8.173673\n",
              "154          20.6        16.824715\n",
              "125          10.6        10.489548\n",
              "196          14.0         9.995306\n",
              "194          17.3        16.346989\n",
              "177          16.7        14.575812\n",
              "163          18.0        17.230651\n",
              "31           11.9        12.568907\n",
              "11           17.4        18.557159\n",
              "73           11.0        12.124028\n",
              "15           22.4        20.433126\n",
              "41           17.1        17.780178\n",
              "97           20.5        16.736234\n",
              "128          24.7        21.603876\n",
              "133          19.6        20.135321\n",
              "82           11.3        10.825600\n",
              "139          20.7        19.127828\n",
              "123          15.2        14.845378\n",
              "83           13.6        13.135974\n",
              "65           11.3         9.077579\n",
              "151          11.6        12.078341\n",
              "162          19.9        16.628244\n",
              "170           8.4         8.417928\n",
              "77           14.2        14.045670\n",
              "32           13.2         9.920502\n",
              "173          16.7        14.261016\n",
              "174          16.5        16.762630\n",
              "85           20.2        17.171855\n",
              "168          17.1        18.887976\n",
              "112          17.1        15.501655\n",
              "171          17.5        15.786884\n",
              "181          17.2        16.862667\n",
              "7            13.2        13.034058\n",
              "46           10.6        10.476739\n",
              "75            8.7        10.614164\n",
              "28           18.9        20.852650\n",
              "29           10.5        10.151757\n",
              "195           7.6         6.884714\n",
              "40           16.6        17.887026\n",
              "153          16.0        18.160139\n",
              "115          12.6        12.559071\n",
              "64           16.0        16.281896\n",
              "59           18.4        18.980247\n",
              "1            10.4        11.337149\n",
              "192           5.9         5.910269\n",
              "136           9.5        10.061595\n",
              "152          16.6        17.623830\n",
              "161          13.3        13.196283"
            ],
            "text/html": [
              "\n",
              "  <div id=\"df-65636559-5ff7-4ea2-8c2b-4bc2a16af200\">\n",
              "    <div class=\"colab-df-container\">\n",
              "      <div>\n",
              "<style scoped>\n",
              "    .dataframe tbody tr th:only-of-type {\n",
              "        vertical-align: middle;\n",
              "    }\n",
              "\n",
              "    .dataframe tbody tr th {\n",
              "        vertical-align: top;\n",
              "    }\n",
              "\n",
              "    .dataframe thead th {\n",
              "        text-align: right;\n",
              "    }\n",
              "</style>\n",
              "<table border=\"1\" class=\"dataframe\">\n",
              "  <thead>\n",
              "    <tr style=\"text-align: right;\">\n",
              "      <th></th>\n",
              "      <th>Actual value</th>\n",
              "      <th>Predicted value</th>\n",
              "    </tr>\n",
              "  </thead>\n",
              "  <tbody>\n",
              "    <tr>\n",
              "      <th>126</th>\n",
              "      <td>6.6</td>\n",
              "      <td>9.352211</td>\n",
              "    </tr>\n",
              "    <tr>\n",
              "      <th>104</th>\n",
              "      <td>20.7</td>\n",
              "      <td>20.963446</td>\n",
              "    </tr>\n",
              "    <tr>\n",
              "      <th>99</th>\n",
              "      <td>17.2</td>\n",
              "      <td>16.488511</td>\n",
              "    </tr>\n",
              "    <tr>\n",
              "      <th>92</th>\n",
              "      <td>19.4</td>\n",
              "      <td>20.109710</td>\n",
              "    </tr>\n",
              "    <tr>\n",
              "      <th>111</th>\n",
              "      <td>21.8</td>\n",
              "      <td>21.671484</td>\n",
              "    </tr>\n",
              "    <tr>\n",
              "      <th>167</th>\n",
              "      <td>17.2</td>\n",
              "      <td>16.160544</td>\n",
              "    </tr>\n",
              "    <tr>\n",
              "      <th>116</th>\n",
              "      <td>12.2</td>\n",
              "      <td>13.561806</td>\n",
              "    </tr>\n",
              "    <tr>\n",
              "      <th>96</th>\n",
              "      <td>16.7</td>\n",
              "      <td>15.393381</td>\n",
              "    </tr>\n",
              "    <tr>\n",
              "      <th>52</th>\n",
              "      <td>22.6</td>\n",
              "      <td>20.819808</td>\n",
              "    </tr>\n",
              "    <tr>\n",
              "      <th>69</th>\n",
              "      <td>22.3</td>\n",
              "      <td>21.005371</td>\n",
              "    </tr>\n",
              "    <tr>\n",
              "      <th>164</th>\n",
              "      <td>11.9</td>\n",
              "      <td>12.294513</td>\n",
              "    </tr>\n",
              "    <tr>\n",
              "      <th>124</th>\n",
              "      <td>19.7</td>\n",
              "      <td>20.708486</td>\n",
              "    </tr>\n",
              "    <tr>\n",
              "      <th>182</th>\n",
              "      <td>8.7</td>\n",
              "      <td>8.173673</td>\n",
              "    </tr>\n",
              "    <tr>\n",
              "      <th>154</th>\n",
              "      <td>20.6</td>\n",
              "      <td>16.824715</td>\n",
              "    </tr>\n",
              "    <tr>\n",
              "      <th>125</th>\n",
              "      <td>10.6</td>\n",
              "      <td>10.489548</td>\n",
              "    </tr>\n",
              "    <tr>\n",
              "      <th>196</th>\n",
              "      <td>14.0</td>\n",
              "      <td>9.995306</td>\n",
              "    </tr>\n",
              "    <tr>\n",
              "      <th>194</th>\n",
              "      <td>17.3</td>\n",
              "      <td>16.346989</td>\n",
              "    </tr>\n",
              "    <tr>\n",
              "      <th>177</th>\n",
              "      <td>16.7</td>\n",
              "      <td>14.575812</td>\n",
              "    </tr>\n",
              "    <tr>\n",
              "      <th>163</th>\n",
              "      <td>18.0</td>\n",
              "      <td>17.230651</td>\n",
              "    </tr>\n",
              "    <tr>\n",
              "      <th>31</th>\n",
              "      <td>11.9</td>\n",
              "      <td>12.568907</td>\n",
              "    </tr>\n",
              "    <tr>\n",
              "      <th>11</th>\n",
              "      <td>17.4</td>\n",
              "      <td>18.557159</td>\n",
              "    </tr>\n",
              "    <tr>\n",
              "      <th>73</th>\n",
              "      <td>11.0</td>\n",
              "      <td>12.124028</td>\n",
              "    </tr>\n",
              "    <tr>\n",
              "      <th>15</th>\n",
              "      <td>22.4</td>\n",
              "      <td>20.433126</td>\n",
              "    </tr>\n",
              "    <tr>\n",
              "      <th>41</th>\n",
              "      <td>17.1</td>\n",
              "      <td>17.780178</td>\n",
              "    </tr>\n",
              "    <tr>\n",
              "      <th>97</th>\n",
              "      <td>20.5</td>\n",
              "      <td>16.736234</td>\n",
              "    </tr>\n",
              "    <tr>\n",
              "      <th>128</th>\n",
              "      <td>24.7</td>\n",
              "      <td>21.603876</td>\n",
              "    </tr>\n",
              "    <tr>\n",
              "      <th>133</th>\n",
              "      <td>19.6</td>\n",
              "      <td>20.135321</td>\n",
              "    </tr>\n",
              "    <tr>\n",
              "      <th>82</th>\n",
              "      <td>11.3</td>\n",
              "      <td>10.825600</td>\n",
              "    </tr>\n",
              "    <tr>\n",
              "      <th>139</th>\n",
              "      <td>20.7</td>\n",
              "      <td>19.127828</td>\n",
              "    </tr>\n",
              "    <tr>\n",
              "      <th>123</th>\n",
              "      <td>15.2</td>\n",
              "      <td>14.845378</td>\n",
              "    </tr>\n",
              "    <tr>\n",
              "      <th>83</th>\n",
              "      <td>13.6</td>\n",
              "      <td>13.135974</td>\n",
              "    </tr>\n",
              "    <tr>\n",
              "      <th>65</th>\n",
              "      <td>11.3</td>\n",
              "      <td>9.077579</td>\n",
              "    </tr>\n",
              "    <tr>\n",
              "      <th>151</th>\n",
              "      <td>11.6</td>\n",
              "      <td>12.078341</td>\n",
              "    </tr>\n",
              "    <tr>\n",
              "      <th>162</th>\n",
              "      <td>19.9</td>\n",
              "      <td>16.628244</td>\n",
              "    </tr>\n",
              "    <tr>\n",
              "      <th>170</th>\n",
              "      <td>8.4</td>\n",
              "      <td>8.417928</td>\n",
              "    </tr>\n",
              "    <tr>\n",
              "      <th>77</th>\n",
              "      <td>14.2</td>\n",
              "      <td>14.045670</td>\n",
              "    </tr>\n",
              "    <tr>\n",
              "      <th>32</th>\n",
              "      <td>13.2</td>\n",
              "      <td>9.920502</td>\n",
              "    </tr>\n",
              "    <tr>\n",
              "      <th>173</th>\n",
              "      <td>16.7</td>\n",
              "      <td>14.261016</td>\n",
              "    </tr>\n",
              "    <tr>\n",
              "      <th>174</th>\n",
              "      <td>16.5</td>\n",
              "      <td>16.762630</td>\n",
              "    </tr>\n",
              "    <tr>\n",
              "      <th>85</th>\n",
              "      <td>20.2</td>\n",
              "      <td>17.171855</td>\n",
              "    </tr>\n",
              "    <tr>\n",
              "      <th>168</th>\n",
              "      <td>17.1</td>\n",
              "      <td>18.887976</td>\n",
              "    </tr>\n",
              "    <tr>\n",
              "      <th>112</th>\n",
              "      <td>17.1</td>\n",
              "      <td>15.501655</td>\n",
              "    </tr>\n",
              "    <tr>\n",
              "      <th>171</th>\n",
              "      <td>17.5</td>\n",
              "      <td>15.786884</td>\n",
              "    </tr>\n",
              "    <tr>\n",
              "      <th>181</th>\n",
              "      <td>17.2</td>\n",
              "      <td>16.862667</td>\n",
              "    </tr>\n",
              "    <tr>\n",
              "      <th>7</th>\n",
              "      <td>13.2</td>\n",
              "      <td>13.034058</td>\n",
              "    </tr>\n",
              "    <tr>\n",
              "      <th>46</th>\n",
              "      <td>10.6</td>\n",
              "      <td>10.476739</td>\n",
              "    </tr>\n",
              "    <tr>\n",
              "      <th>75</th>\n",
              "      <td>8.7</td>\n",
              "      <td>10.614164</td>\n",
              "    </tr>\n",
              "    <tr>\n",
              "      <th>28</th>\n",
              "      <td>18.9</td>\n",
              "      <td>20.852650</td>\n",
              "    </tr>\n",
              "    <tr>\n",
              "      <th>29</th>\n",
              "      <td>10.5</td>\n",
              "      <td>10.151757</td>\n",
              "    </tr>\n",
              "    <tr>\n",
              "      <th>195</th>\n",
              "      <td>7.6</td>\n",
              "      <td>6.884714</td>\n",
              "    </tr>\n",
              "    <tr>\n",
              "      <th>40</th>\n",
              "      <td>16.6</td>\n",
              "      <td>17.887026</td>\n",
              "    </tr>\n",
              "    <tr>\n",
              "      <th>153</th>\n",
              "      <td>16.0</td>\n",
              "      <td>18.160139</td>\n",
              "    </tr>\n",
              "    <tr>\n",
              "      <th>115</th>\n",
              "      <td>12.6</td>\n",
              "      <td>12.559071</td>\n",
              "    </tr>\n",
              "    <tr>\n",
              "      <th>64</th>\n",
              "      <td>16.0</td>\n",
              "      <td>16.281896</td>\n",
              "    </tr>\n",
              "    <tr>\n",
              "      <th>59</th>\n",
              "      <td>18.4</td>\n",
              "      <td>18.980247</td>\n",
              "    </tr>\n",
              "    <tr>\n",
              "      <th>1</th>\n",
              "      <td>10.4</td>\n",
              "      <td>11.337149</td>\n",
              "    </tr>\n",
              "    <tr>\n",
              "      <th>192</th>\n",
              "      <td>5.9</td>\n",
              "      <td>5.910269</td>\n",
              "    </tr>\n",
              "    <tr>\n",
              "      <th>136</th>\n",
              "      <td>9.5</td>\n",
              "      <td>10.061595</td>\n",
              "    </tr>\n",
              "    <tr>\n",
              "      <th>152</th>\n",
              "      <td>16.6</td>\n",
              "      <td>17.623830</td>\n",
              "    </tr>\n",
              "    <tr>\n",
              "      <th>161</th>\n",
              "      <td>13.3</td>\n",
              "      <td>13.196283</td>\n",
              "    </tr>\n",
              "  </tbody>\n",
              "</table>\n",
              "</div>\n",
              "      <button class=\"colab-df-convert\" onclick=\"convertToInteractive('df-65636559-5ff7-4ea2-8c2b-4bc2a16af200')\"\n",
              "              title=\"Convert this dataframe to an interactive table.\"\n",
              "              style=\"display:none;\">\n",
              "        \n",
              "  <svg xmlns=\"http://www.w3.org/2000/svg\" height=\"24px\"viewBox=\"0 0 24 24\"\n",
              "       width=\"24px\">\n",
              "    <path d=\"M0 0h24v24H0V0z\" fill=\"none\"/>\n",
              "    <path d=\"M18.56 5.44l.94 2.06.94-2.06 2.06-.94-2.06-.94-.94-2.06-.94 2.06-2.06.94zm-11 1L8.5 8.5l.94-2.06 2.06-.94-2.06-.94L8.5 2.5l-.94 2.06-2.06.94zm10 10l.94 2.06.94-2.06 2.06-.94-2.06-.94-.94-2.06-.94 2.06-2.06.94z\"/><path d=\"M17.41 7.96l-1.37-1.37c-.4-.4-.92-.59-1.43-.59-.52 0-1.04.2-1.43.59L10.3 9.45l-7.72 7.72c-.78.78-.78 2.05 0 2.83L4 21.41c.39.39.9.59 1.41.59.51 0 1.02-.2 1.41-.59l7.78-7.78 2.81-2.81c.8-.78.8-2.07 0-2.86zM5.41 20L4 18.59l7.72-7.72 1.47 1.35L5.41 20z\"/>\n",
              "  </svg>\n",
              "      </button>\n",
              "      \n",
              "  <style>\n",
              "    .colab-df-container {\n",
              "      display:flex;\n",
              "      flex-wrap:wrap;\n",
              "      gap: 12px;\n",
              "    }\n",
              "\n",
              "    .colab-df-convert {\n",
              "      background-color: #E8F0FE;\n",
              "      border: none;\n",
              "      border-radius: 50%;\n",
              "      cursor: pointer;\n",
              "      display: none;\n",
              "      fill: #1967D2;\n",
              "      height: 32px;\n",
              "      padding: 0 0 0 0;\n",
              "      width: 32px;\n",
              "    }\n",
              "\n",
              "    .colab-df-convert:hover {\n",
              "      background-color: #E2EBFA;\n",
              "      box-shadow: 0px 1px 2px rgba(60, 64, 67, 0.3), 0px 1px 3px 1px rgba(60, 64, 67, 0.15);\n",
              "      fill: #174EA6;\n",
              "    }\n",
              "\n",
              "    [theme=dark] .colab-df-convert {\n",
              "      background-color: #3B4455;\n",
              "      fill: #D2E3FC;\n",
              "    }\n",
              "\n",
              "    [theme=dark] .colab-df-convert:hover {\n",
              "      background-color: #434B5C;\n",
              "      box-shadow: 0px 1px 3px 1px rgba(0, 0, 0, 0.15);\n",
              "      filter: drop-shadow(0px 1px 2px rgba(0, 0, 0, 0.3));\n",
              "      fill: #FFFFFF;\n",
              "    }\n",
              "  </style>\n",
              "\n",
              "      <script>\n",
              "        const buttonEl =\n",
              "          document.querySelector('#df-65636559-5ff7-4ea2-8c2b-4bc2a16af200 button.colab-df-convert');\n",
              "        buttonEl.style.display =\n",
              "          google.colab.kernel.accessAllowed ? 'block' : 'none';\n",
              "\n",
              "        async function convertToInteractive(key) {\n",
              "          const element = document.querySelector('#df-65636559-5ff7-4ea2-8c2b-4bc2a16af200');\n",
              "          const dataTable =\n",
              "            await google.colab.kernel.invokeFunction('convertToInteractive',\n",
              "                                                     [key], {});\n",
              "          if (!dataTable) return;\n",
              "\n",
              "          const docLinkHtml = 'Like what you see? Visit the ' +\n",
              "            '<a target=\"_blank\" href=https://colab.research.google.com/notebooks/data_table.ipynb>data table notebook</a>'\n",
              "            + ' to learn more about interactive tables.';\n",
              "          element.innerHTML = '';\n",
              "          dataTable['output_type'] = 'display_data';\n",
              "          await google.colab.output.renderOutput(dataTable, element);\n",
              "          const docLink = document.createElement('div');\n",
              "          docLink.innerHTML = docLinkHtml;\n",
              "          element.appendChild(docLink);\n",
              "        }\n",
              "      </script>\n",
              "    </div>\n",
              "  </div>\n",
              "  "
            ]
          },
          "metadata": {},
          "execution_count": 33
        }
      ]
    },
    {
      "cell_type": "code",
      "source": [
        "plt.plot(y_test.values, color = 'red', label = 'Real data')\n",
        "plt.plot(y_pred_mlr, color = 'blue', label = 'Predicted data')\n",
        "plt.title('Prediction')\n",
        "plt.legend()\n",
        "plt.show()"
      ],
      "metadata": {
        "colab": {
          "base_uri": "https://localhost:8080/",
          "height": 281
        },
        "id": "V6UMdyQGNSIb",
        "outputId": "7415c982-76bb-43a6-ad3e-98c3ce0259e7"
      },
      "execution_count": null,
      "outputs": [
        {
          "output_type": "display_data",
          "data": {
            "text/plain": [
              "<Figure size 432x288 with 1 Axes>"
            ],
            "image/png": "[encoded data removed]"
          },
          "metadata": {
            "needs_background": "light"
          }
        }
      ]
    },
    {
      "cell_type": "code",
      "source": [
        "#Predict for any value\n",
        "mlr.predict([[56, 55, 67]])"
      ],
      "metadata": {
        "colab": {
          "base_uri": "https://localhost:8080/"
        },
        "id": "YF6MKU6PNTlA",
        "outputId": "08862f93-9e53-4a33-a841-ef87ade32c11"
      },
      "execution_count": null,
      "outputs": [
        {
          "output_type": "execute_result",
          "data": {
            "text/plain": [
              "array([13.82112602])"
            ]
          },
          "metadata": {},
          "execution_count": 35
        }
      ]
    },
    {
      "cell_type": "code",
      "source": [
        "# print the R-squared value for the model\n",
        "print('R squared value of the model: {:.2f}'.format(mlr.score(x,y)*100))"
      ],
      "metadata": {
        "colab": {
          "base_uri": "https://localhost:8080/"
        },
        "id": "8wEn5CxBNXLj",
        "outputId": "cb32b1fa-444e-410f-9446-c2655a59fc4f"
      },
      "execution_count": null,
      "outputs": [
        {
          "output_type": "stream",
          "name": "stdout",
          "text": [
            "R squared value of the model: 90.11\n"
          ]
        },
        {
          "output_type": "stream",
          "name": "stderr",
          "text": [
            "/usr/local/lib/python3.7/dist-packages/sklearn/base.py:444: UserWarning: X has feature names, but LinearRegression was fitted without feature names\n",
            "  f\"X has feature names, but {self.__class__.__name__} was fitted without\"\n"
          ]
        }
      ]
    },
    {
      "cell_type": "markdown",
      "source": [
        "### **4.Performance Analysis**"
      ],
      "metadata": {
        "id": "D0kWcudzi9xo"
      }
    },
    {
      "cell_type": "code",
      "source": [
        "# 0 means the model is perfect. Therefore the value should be as close to 0 as possible\n",
        "meanAbErr = metrics.mean_absolute_error(y_test, y_pred_mlr)\n",
        "meanSqErr = metrics.mean_squared_error(y_test, y_pred_mlr)\n",
        "rootMeanSqErr = np.sqrt(metrics.mean_squared_error(y_test, y_pred_mlr))\n",
        "print('Mean Absolute Error:', meanAbErr)\n",
        "print('Mean Square Error:', meanSqErr)\n",
        "print('Root Mean Square Error:', rootMeanSqErr)"
      ],
      "metadata": {
        "id": "Z_VRAAKkNaTT",
        "outputId": "fe5fbfca-3def-4010-ca1b-84f115151cbf",
        "colab": {
          "base_uri": "https://localhost:8080/"
        }
      },
      "execution_count": null,
      "outputs": [
        {
          "output_type": "stream",
          "name": "stdout",
          "text": [
            "Mean Absolute Error: 1.227818356658941\n",
            "Mean Square Error: 2.6360765623280655\n",
            "Root Mean Square Error: 1.623599877533891\n"
          ]
        }
      ]
    }
  ]
}