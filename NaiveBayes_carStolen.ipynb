{
  "nbformat": 4,
  "nbformat_minor": 0,
  "metadata": {
    "colab": {
      "name": " NaiveBayes_carStolen.ipynb",
      "provenance": [],
      "collapsed_sections": [],
      "include_colab_link": true
    },
    "kernelspec": {
      "name": "python3",
      "display_name": "Python 3"
    },
    "language_info": {
      "name": "python"
    }
  },
  "cells": [
    {
      "cell_type": "markdown",
      "metadata": {
        "id": "view-in-github",
        "colab_type": "text"
      },
      "source": [
        "<a href=\"https://colab.research.google.com/github/zubrist/Machine-Learning/blob/main/NaiveBayes_carStolen.ipynb\" target=\"_parent\"><img src=\"https://colab.research.google.com/assets/colab-badge.svg\" alt=\"Open In Colab\"/></a>"
      ]
    },
    {
      "cell_type": "code",
      "execution_count": 3,
      "metadata": {
        "colab": {
          "base_uri": "https://localhost:8080/"
        },
        "id": "LPmbuIdDAGcf",
        "outputId": "92c7a59b-2aa0-4baf-8159-f27e2ac48c97"
      },
      "outputs": [
        {
          "output_type": "stream",
          "name": "stdout",
          "text": [
            "[0 0 0 1 1 1 1 1 0 0]\n",
            "[1 1 1 1 1 0 0 0 0 1]\n",
            "[0 0 0 0 1 1 1 0 1 1]\n",
            "[1 0 1 0 1 0 1 0 0 1]\n",
            "_____________________________________________\n",
            "[[0, 1, 0], [0, 1, 0], [0, 1, 0], [1, 1, 0], [1, 1, 1], [1, 0, 1], [1, 0, 1], [1, 0, 0], [0, 0, 1], [0, 1, 1]]\n",
            "The Car is not stolen\n"
          ]
        }
      ],
      "source": [
        "# Assigning features and label variables\n",
        "color=['Red','Red','Red','Yellow','Yellow','Yellow','Yellow','Yellow','Red','Red']\n",
        "types=['Sport','Sport','Sport','Sport','Sport','SUV','SUV','SUV','SUV','Sport']\n",
        "origin=['Domestic','Domestic','Domestic','Domestic','Imported','Imported','Imported','Domestic','Imported','Imported']\n",
        "stolen=['Yes','No','Yes','No','Yes','No','Yes','No','No','Yes']\n",
        "\n",
        "# Import LabelEncoder\n",
        "from sklearn import preprocessing\n",
        "#creating labelEncoder\n",
        "le = preprocessing.LabelEncoder()\n",
        "# Converting string labels into numbers.\n",
        "color_encoded=le.fit_transform(color)\n",
        "types_encoded=le.fit_transform(types)\n",
        "origin_encoded= le.fit_transform(origin)\n",
        "target=le.fit_transform(stolen)\n",
        "\n",
        "print(color_encoded)\n",
        "print(types_encoded)\n",
        "print(origin_encoded)\n",
        "print(target)\n",
        "print(\"_____________________________________________\")\n",
        "\n",
        "import numpy as np\n",
        "zipped=zip(color_encoded,types_encoded,origin_encoded)\n",
        "features = np.array(list(zipped)).tolist()\n",
        "print(features)\n",
        "\n",
        "#Import Gaussian Naive Bayes model\n",
        "from sklearn.naive_bayes import CategoricalNB\n",
        "\n",
        "#Create a Gaussian Classifier\n",
        "model = CategoricalNB()\n",
        "\n",
        "# Train the model using the training sets\n",
        "model.fit(features,target)\n",
        "\n",
        "#Predict Output\n",
        "#color: 0 = Red; 1 = Yellow\n",
        "#Types: 0 = SUV ; 1 = Sport\n",
        "#origin: 0 = Domestic ; 1 = Imported\n",
        " \n",
        "predicted= model.predict([[0, 0, 0 ]])  \n",
        "#print(\"Predicted Value:\", predicted)\n",
        "if(predicted==0):\n",
        "  print(\"The Car is not stolen\")\n",
        "else:\n",
        "  print(\"The Car is Stolen\")"
      ]
    },
    {
      "cell_type": "code",
      "source": [
        ""
      ],
      "metadata": {
        "id": "LtdKT-_HVL-p"
      },
      "execution_count": null,
      "outputs": []
    }
  ]
}