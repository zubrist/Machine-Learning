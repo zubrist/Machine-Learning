{
  "nbformat": 4,
  "nbformat_minor": 0,
  "metadata": {
    "colab": {
      "name": "Iris classification.ipynb",
      "provenance": [],
      "collapsed_sections": []
    },
    "kernelspec": {
      "name": "python3",
      "display_name": "Python 3"
    },
    "language_info": {
      "name": "python"
    }
  },
  "cells": [
    {
      "cell_type": "code",
      "execution_count": 2,
      "metadata": {
        "colab": {
          "base_uri": "https://localhost:8080/"
        },
        "id": "Uu04bAWbran-",
        "outputId": "68bfa4d6-4d5f-476d-e109-030defd340b8"
      },
      "outputs": [
        {
          "output_type": "stream",
          "name": "stdout",
          "text": [
            "   Id  SepalLengthCm  SepalWidthCm  PetalLengthCm  PetalWidthCm      Species\n",
            "0   1            5.1           3.5            1.4           0.2  Iris-setosa\n",
            "1   2            4.9           3.0            1.4           0.2  Iris-setosa\n",
            "2   3            4.7           3.2            1.3           0.2  Iris-setosa\n",
            "3   4            4.6           3.1            1.5           0.2  Iris-setosa\n",
            "4   5            5.0           3.6            1.4           0.2  Iris-setosa\n",
            "[[11  0  0]\n",
            " [ 0  9  0]\n",
            " [ 0  0 10]]\n",
            "                 precision    recall  f1-score   support\n",
            "\n",
            "    Iris-setosa       1.00      1.00      1.00        11\n",
            "Iris-versicolor       1.00      1.00      1.00         9\n",
            " Iris-virginica       1.00      1.00      1.00        10\n",
            "\n",
            "       accuracy                           1.00        30\n",
            "      macro avg       1.00      1.00      1.00        30\n",
            "   weighted avg       1.00      1.00      1.00        30\n",
            "\n"
          ]
        }
      ],
      "source": [
        "# Importing Libraries\n",
        "import pandas as pd  \n",
        "\n",
        "# Importing the Dataset\n",
        "dataset = pd.read_csv(\"/content/iris.csv\") # upload the dataset \n",
        "print(dataset.head()) \n",
        "\n",
        "# Preprocessing\n",
        "X = dataset.iloc[:, 1:5]  \n",
        "y = dataset.iloc[:, 5]\n",
        "\n",
        "# Train Test Split \n",
        "from sklearn.model_selection import train_test_split  \n",
        "X_train, X_test, y_train, y_test = train_test_split(X, y, test_size = 0.20)  \n",
        "\n",
        "# Feature Scaling\n",
        "from sklearn.preprocessing import StandardScaler  \n",
        "scaler = StandardScaler()  \n",
        "scaler.fit(X)\n",
        "\n",
        "X_train = scaler.transform(X_train)  \n",
        "X_test = scaler.transform(X_test)  \n",
        "\n",
        "# Training\n",
        "from sklearn.neighbors import KNeighborsClassifier  \n",
        "classifier = KNeighborsClassifier(n_neighbors = 5)  \n",
        "classifier.fit(X_train, y_train)  \n",
        "\n",
        "# Predictions\n",
        "y_pred = classifier.predict(X_test) \n",
        "\n",
        "# Evaluating the Algorithm\n",
        "from sklearn.metrics import classification_report, confusion_matrix  \n",
        "print(confusion_matrix(y_test, y_pred))  \n",
        "print(classification_report(y_test, y_pred))  \n",
        "\n",
        "import pickle\n",
        "# Model persistence\n",
        "output_model_file = 'Knnmodel.pkl'\n",
        "\n",
        "# Save the model\n",
        "with open(output_model_file, 'wb') as f:\n",
        "    pickle.dump(classifier, f)\n"
      ]
    },
    {
      "cell_type": "code",
      "source": [
        "import numpy as np  \n",
        "\n",
        "# Comparing Error Rate with the K Value\n",
        "error = []\n",
        "\n",
        "# Calculating error for K values between 1 and 40\n",
        "for i in range(1, 10):  \n",
        "    knn = KNeighborsClassifier(n_neighbors = i)\n",
        "    knn.fit(X_train, y_train)\n",
        "    pred_i = knn.predict(X_test)\n",
        "#     print(pred_i != y_test)\n",
        "#     print(np.mean(pred_i != y_test))\n",
        "    error.append(np.mean(pred_i != y_test))\n",
        "\n",
        "import matplotlib.pyplot as plt     \n",
        "plt.plot(range(1, 10), error, \n",
        "         color='red', linestyle='dashed', \n",
        "         marker='o', markerfacecolor='blue', \n",
        "         markersize=10)\n",
        "plt.title('Error Rate K Value')  \n",
        "plt.xlabel('K Value')  \n",
        "plt.ylabel('Mean Error') \n",
        "plt.show()\n"
      ],
      "metadata": {
        "colab": {
          "base_uri": "https://localhost:8080/",
          "height": 295
        },
        "id": "fAAJyWFKus4q",
        "outputId": "076a2270-88db-435c-cf31-fcbdd5bafefa"
      },
      "execution_count": 3,
      "outputs": [
        {
          "output_type": "display_data",
          "data": {
            "text/plain": [
              "<Figure size 432x288 with 1 Axes>"
            ],
            "image/png": "[encoded data removed]"
          },
          "metadata": {
            "needs_background": "light"
          }
        }
      ]
    },
    {
      "cell_type": "markdown",
      "source": [
        "# ***SAVING MODEL OFFLINE***"
      ],
      "metadata": {
        "id": "fYsLunsdQcZU"
      }
    },
    {
      "cell_type": "code",
      "source": [
        "import pickle \n",
        "#model persistence\n",
        "output_model_file='Knnmodel.pkl'\n",
        "#save the model\n",
        "with open(output_model_file,'wb') as f:\n",
        "  pickle.dump(classifier,f)\n"
      ],
      "metadata": {
        "id": "A6XtjZfpQppx"
      },
      "execution_count": 4,
      "outputs": []
    },
    {
      "cell_type": "markdown",
      "source": [
        "# VALUE OF K ?"
      ],
      "metadata": {
        "id": "cevITqVyS11D"
      }
    },
    {
      "cell_type": "code",
      "source": [
        "import numpy as np\n",
        "#Comparing Error Rate with the k Value\n",
        "error= []\n",
        "# Calculaing error for K values bertween 1 and 10\n",
        "for i in range(1, 10):\n",
        "  knn= KNeighborsClassifier(n_neighbors = i)\n",
        "  knn.fit(X_train, y_train)\n",
        "  pred_i = knn.predict(X_test)\n",
        "  # print(pred_i !=y_test)\n",
        "  # print (np.mean (pred_i !=y_test))\n",
        "  error.append(np.mean(pred_i != y_test))\n",
        "\n",
        "import matplotlib.pyplot as plt\n",
        "plt.plot (range(1 , 10), error,\n",
        "          color='red', linestyle='dashed',\n",
        "          marker= 'o', markerfacecolor='blue',\n",
        "          markersize= 10)  \n",
        "plt.title('Error Rate K value')\n",
        "plt.xlabel('K value')\n",
        "plt.ylabel('Mean Error')\n",
        "plt.show()\n"
      ],
      "metadata": {
        "id": "1Vt3b2k4S5hR",
        "outputId": "dfb786fd-466d-44ab-cead-69da98e0b28b",
        "colab": {
          "base_uri": "https://localhost:8080/",
          "height": 295
        }
      },
      "execution_count": 5,
      "outputs": [
        {
          "output_type": "display_data",
          "data": {
            "text/plain": [
              "<Figure size 432x288 with 1 Axes>"
            ],
            "image/png": "[encoded data removed]"
          },
          "metadata": {
            "needs_background": "light"
          }
        }
      ]
    },
    {
      "cell_type": "markdown",
      "source": [
        "# CLASSIFIACATION PREDICTUION"
      ],
      "metadata": {
        "id": "iFQs2PTkZs4V"
      }
    },
    {
      "cell_type": "code",
      "source": [
        "import pickle\n",
        "# model persistence \n",
        "output_model_file = 'Knnmodel.pkl'\n",
        "#load the model\n",
        "\n",
        "with open(output_model_file, 'rb' ) as f:\n",
        "  knn = pickle.load(f)\n",
        "\n",
        "#new Features Set\n",
        "\n",
        "X = np.array([[ 2.8 ,3.0, 1.2, 4.3],[0.7, 3.2, 0.7, 1.4] ])\n",
        "print(X)\n",
        "\n",
        "# Features pre-processing by standardization\n",
        "\n",
        "from sklearn.preprocessing import StandardScaler\n",
        "sacler = StandardScaler()\n",
        "scaler.fit(X)\n",
        "X = scaler.transform(X)\n",
        "\n",
        "#Making Predictoion\n",
        "predictions = knn.predict(X)\n",
        "print(predictions)"
      ],
      "metadata": {
        "id": "Gao9mSKmUQd5",
        "colab": {
          "base_uri": "https://localhost:8080/"
        },
        "outputId": "a50b3fee-bed4-48c6-b5dd-669a24c0c913"
      },
      "execution_count": 10,
      "outputs": [
        {
          "output_type": "stream",
          "name": "stdout",
          "text": [
            "[[2.8 3.  1.2 4.3]\n",
            " [0.7 3.2 0.7 1.4]]\n",
            "['Iris-virginica' 'Iris-setosa']\n"
          ]
        }
      ]
    }
  ]
}