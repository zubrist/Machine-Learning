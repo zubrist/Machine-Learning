{
  "nbformat": 4,
  "nbformat_minor": 0,
  "metadata": {
    "colab": {
      "name": "NaiveBayes_wonMatch.ipynb",
      "provenance": [],
      "collapsed_sections": [],
      "include_colab_link": true
    },
    "kernelspec": {
      "name": "python3",
      "display_name": "Python 3"
    },
    "language_info": {
      "name": "python"
    }
  },
  "cells": [
    {
      "cell_type": "markdown",
      "metadata": {
        "id": "view-in-github",
        "colab_type": "text"
      },
      "source": [
        "<a href=\"https://colab.research.google.com/github/zubrist/Machine-Learning/blob/main/NaiveBayes_wonMatch.ipynb\" target=\"_parent\"><img src=\"https://colab.research.google.com/assets/colab-badge.svg\" alt=\"Open In Colab\"/></a>"
      ]
    },
    {
      "cell_type": "code",
      "execution_count": 4,
      "metadata": {
        "colab": {
          "base_uri": "https://localhost:8080/"
        },
        "id": "LPmbuIdDAGcf",
        "outputId": "07f1dfb7-5ff7-4238-fc55-ad4dc69eb243"
      },
      "outputs": [
        {
          "output_type": "stream",
          "name": "stdout",
          "text": [
            "[1 1 0 2 2 2 0 1 1 2 1]\n",
            "[2 2 2 1 0 0 0 1 0 1 1]\n",
            "[0 0 0 0 1 1 1 0 1 1 1]\n",
            "[0 1 0 0 0 1 1 0 0 0 1]\n",
            "[0 0 1 1 1 0 1 0 1 1 1]\n",
            "_____________________________________________\n",
            "[[1, 2, 0, 0], [1, 2, 0, 1], [0, 2, 0, 0], [2, 1, 0, 0], [2, 0, 1, 0], [2, 0, 1, 1], [0, 0, 1, 1], [1, 1, 0, 0], [1, 0, 1, 0], [2, 1, 1, 0], [1, 1, 1, 1]]\n",
            "______________________________________________\n",
            "Will not win the match\n"
          ]
        }
      ],
      "source": [
        "# Assigning features and label variables\n",
        "weather=['Rainy','Rainy','Overcast','Sunny','Sunny','Sunny','Overcast','Rainy','Rainy','Sunny','Rainy']\n",
        "matchWons=['3','3','3','2','1','1','1','2','1', '2', '2']\n",
        "humidity=['High','High','High','High','Normal','Normal','Normal','High','Normal','Normal','Normal']\n",
        "winToss=['F','T','F','F','F','T','T','F','F','F','T']\n",
        "\n",
        "won=['No','No','Yes','Yes','Yes','No','Yes','No','Yes','Yes','Yes']\n",
        "\n",
        "# Import LabelEncoder\n",
        "from sklearn import preprocessing\n",
        "#creating labelEncoder\n",
        "le = preprocessing.LabelEncoder()\n",
        "# Converting string labels into numbers.\n",
        "weather_encoded=le.fit_transform(weather)\n",
        "matchWons_encoded=le.fit_transform(matchWons)\n",
        "humidity_encoded= le.fit_transform(humidity)\n",
        "winToss_encoded= le.fit_transform(winToss)\n",
        "target=le.fit_transform(won)\n",
        "\n",
        "print(weather_encoded)\n",
        "print(matchWons_encoded)\n",
        "print(humidity_encoded)\n",
        "print(winToss_encoded)\n",
        "print(target)\n",
        "print(\"_____________________________________________\")\n",
        "\n",
        "import numpy as np\n",
        "zipped=zip(weather_encoded,matchWons_encoded,humidity_encoded,winToss_encoded)\n",
        "features = np.array(list(zipped)).tolist()\n",
        "print(features)\n",
        "print(\"______________________________________________\")\n",
        "#Import Gaussian Naive Bayes model\n",
        "from sklearn.naive_bayes import CategoricalNB\n",
        "\n",
        "#Create a Gaussian Classifier\n",
        "model = CategoricalNB()\n",
        "\n",
        "# Train the model using the training sets\n",
        "model.fit(features,target)\n",
        "\n",
        "#Predict Output\n",
        "#weather : 0 = Overcast; 1 = Rainy ; 2= Sunny\n",
        "#matchWons : 0 = 1 win ; 1 = 2 wins; 2 = 3 wins\n",
        "#Humidity : 0 = High  ; 1 = Normal\n",
        "#WinToss : 0 =False ; 1 = True \n",
        "predicted= model.predict([[1, 1, 1 , 1]]) # 1:Rainy, 1:2 wins ; 1:Normal ; 1:True\n",
        "#print(\"Predicted Value:\", predicted)\n",
        "if(predicted==0):\n",
        "  print(\"Will Win the match \")\n",
        "else:\n",
        "  print(\"Will not win the match\")"
      ]
    },
    {
      "cell_type": "code",
      "source": [
        ""
      ],
      "metadata": {
        "id": "LtdKT-_HVL-p"
      },
      "execution_count": null,
      "outputs": []
    }
  ]
}